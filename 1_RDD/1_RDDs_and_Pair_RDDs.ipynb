{
 "cells": [
  {
   "cell_type": "code",
   "execution_count": 1,
   "id": "3fdb14d0",
   "metadata": {
    "ExecuteTime": {
     "start_time": "2023-05-02T16:07:35.931919Z",
     "end_time": "2023-05-02T16:07:35.947389Z"
    }
   },
   "outputs": [
    {
     "data": {
      "text/plain": "'/usr/local/opt/apache-spark/libexec'"
     },
     "execution_count": 1,
     "metadata": {},
     "output_type": "execute_result"
    }
   ],
   "source": [
    "import findspark\n",
    "findspark.init()\n",
    "findspark.find()"
   ]
  },
  {
   "cell_type": "code",
   "execution_count": 2,
   "id": "4e853733",
   "metadata": {
    "ExecuteTime": {
     "start_time": "2023-05-02T16:07:46.202336Z",
     "end_time": "2023-05-02T16:07:51.712341Z"
    }
   },
   "outputs": [
    {
     "name": "stderr",
     "output_type": "stream",
     "text": [
      "Setting default log level to \"WARN\".\n",
      "To adjust logging level use sc.setLogLevel(newLevel). For SparkR, use setLogLevel(newLevel).\n"
     ]
    },
    {
     "name": "stdout",
     "output_type": "stream",
     "text": [
      "23/05/02 16:07:49 WARN NativeCodeLoader: Unable to load native-hadoop library for your platform... using builtin-java classes where applicable\n",
      "23/05/02 16:07:50 WARN Utils: Service 'SparkUI' could not bind on port 4040. Attempting port 4041.\n"
     ]
    }
   ],
   "source": [
    "from pyspark.sql import SparkSession\n",
    "from pyspark.sql.types import *\n",
    "\n",
    "spark = (\n",
    "            SparkSession\n",
    "                .builder\n",
    "                .appName(\"RDDApp\")\n",
    "                .master(\"local[4]\")\n",
    "                .getOrCreate()\n",
    "        )"
   ]
  },
  {
   "cell_type": "code",
   "execution_count": 3,
   "id": "c0b30290",
   "metadata": {
    "ExecuteTime": {
     "start_time": "2023-05-02T16:09:11.124447Z",
     "end_time": "2023-05-02T16:09:12.238684Z"
    }
   },
   "outputs": [
    {
     "data": {
      "text/plain": "<pyspark.sql.session.SparkSession at 0x110308220>",
      "text/html": "\n            <div>\n                <p><b>SparkSession - in-memory</b></p>\n                \n        <div>\n            <p><b>SparkContext</b></p>\n\n            <p><a href=\"http://192.168.0.118:4041\">Spark UI</a></p>\n\n            <dl>\n              <dt>Version</dt>\n                <dd><code>v3.3.2</code></dd>\n              <dt>Master</dt>\n                <dd><code>local[4]</code></dd>\n              <dt>AppName</dt>\n                <dd><code>RDDApp</code></dd>\n            </dl>\n        </div>\n        \n            </div>\n        "
     },
     "execution_count": 3,
     "metadata": {},
     "output_type": "execute_result"
    }
   ],
   "source": [
    "spark"
   ]
  },
  {
   "cell_type": "markdown",
   "id": "26cef7ff",
   "metadata": {},
   "source": [
    "### Create RDD - Option 1: Parallelize"
   ]
  },
  {
   "cell_type": "code",
   "execution_count": 4,
   "id": "5c2ed3d6",
   "metadata": {
    "ExecuteTime": {
     "start_time": "2023-05-02T16:09:41.552868Z",
     "end_time": "2023-05-02T16:09:41.574443Z"
    }
   },
   "outputs": [],
   "source": [
    "# Create a variable for SparkContext\n",
    "\n",
    "sc = spark.sparkContext"
   ]
  },
  {
   "cell_type": "code",
   "execution_count": 5,
   "id": "4840afc9",
   "metadata": {
    "ExecuteTime": {
     "start_time": "2023-05-02T16:09:57.919680Z",
     "end_time": "2023-05-02T16:09:58.106531Z"
    }
   },
   "outputs": [],
   "source": [
    "# Create RDD using parallelize\n",
    "\n",
    "numbersRdd = sc.parallelize( [1, 2, 3, 4, 5] )"
   ]
  },
  {
   "cell_type": "code",
   "execution_count": 6,
   "id": "27061738",
   "metadata": {
    "ExecuteTime": {
     "start_time": "2023-05-02T16:10:16.172227Z",
     "end_time": "2023-05-02T16:10:16.207754Z"
    }
   },
   "outputs": [
    {
     "data": {
      "text/plain": "4"
     },
     "execution_count": 6,
     "metadata": {},
     "output_type": "execute_result"
    }
   ],
   "source": [
    "# Check RDD partitions\n",
    "\n",
    "numbersRdd.getNumPartitions()"
   ]
  },
  {
   "cell_type": "code",
   "execution_count": 7,
   "id": "46ac9ee8",
   "metadata": {
    "ExecuteTime": {
     "start_time": "2023-05-02T16:10:22.867364Z",
     "end_time": "2023-05-02T16:10:24.089840Z"
    }
   },
   "outputs": [
    {
     "name": "stderr",
     "output_type": "stream",
     "text": [
      "[Stage 0:>                                                          (0 + 4) / 4]\r"
     ]
    },
    {
     "name": "stdout",
     "output_type": "stream",
     "text": [
      "[1, 2, 3, 4, 5]\n"
     ]
    },
    {
     "name": "stderr",
     "output_type": "stream",
     "text": [
      "                                                                                \r"
     ]
    }
   ],
   "source": [
    "# Get result from RDD\n",
    "\n",
    "output = numbersRdd.collect()\n",
    "\n",
    "print(output)"
   ]
  },
  {
   "cell_type": "code",
   "execution_count": 75,
   "id": "b38153e2",
   "metadata": {
    "ExecuteTime": {
     "start_time": "2023-05-02T13:18:26.496879Z",
     "end_time": "2023-05-02T13:18:26.694401Z"
    }
   },
   "outputs": [
    {
     "data": {
      "text/plain": "[1, 2]"
     },
     "execution_count": 75,
     "metadata": {},
     "output_type": "execute_result"
    }
   ],
   "source": [
    "# Get any 2 records from RDD\n",
    "\n",
    "numbersRdd.take(2)\n"
   ]
  },
  {
   "cell_type": "code",
   "execution_count": 8,
   "id": "4487ba34",
   "metadata": {
    "ExecuteTime": {
     "start_time": "2023-05-02T16:11:43.060847Z",
     "end_time": "2023-05-02T16:11:44.132891Z"
    }
   },
   "outputs": [
    {
     "name": "stderr",
     "output_type": "stream",
     "text": [
      "                                                                                \r"
     ]
    },
    {
     "data": {
      "text/plain": "1"
     },
     "execution_count": 8,
     "metadata": {},
     "output_type": "execute_result"
    }
   ],
   "source": [
    "# Get first record from RDD\n",
    "# first() returns an element, while take(1) returns an array with one element\n",
    "\n",
    "numbersRdd.first()\n"
   ]
  },
  {
   "cell_type": "code",
   "execution_count": 9,
   "id": "cdeed2a4",
   "metadata": {
    "ExecuteTime": {
     "start_time": "2023-05-02T16:12:03.793551Z",
     "end_time": "2023-05-02T16:12:03.826363Z"
    }
   },
   "outputs": [],
   "source": [
    "# Create RDD with complex types\n",
    "\n",
    "employeesRdd = sc.parallelize(\n",
    "                                [\n",
    "                                    [ 1, \"Neha\",  10000 ],\n",
    "                                    [ 2, \"Steve\", 20000 ],\n",
    "                                    [ 3, \"Kari\",  30000 ],\n",
    "                                    [ 4, \"Ivan\",  40000 ],\n",
    "                                    [ 5, \"Mohit\", 50000 ]\n",
    "                                ]\n",
    "                              )"
   ]
  },
  {
   "cell_type": "code",
   "execution_count": 10,
   "id": "f49cc820",
   "metadata": {
    "ExecuteTime": {
     "start_time": "2023-05-02T16:12:07.066222Z",
     "end_time": "2023-05-02T16:12:07.126110Z"
    }
   },
   "outputs": [
    {
     "data": {
      "text/plain": "[1, 'Neha', 10000]"
     },
     "execution_count": 10,
     "metadata": {},
     "output_type": "execute_result"
    }
   ],
   "source": [
    "# Get first record from RDD\n",
    "\n",
    "employeesRdd.first()"
   ]
  },
  {
   "cell_type": "markdown",
   "id": "8f908d85",
   "metadata": {},
   "source": [
    "### Create RDD - Option 2: Read a File"
   ]
  },
  {
   "cell_type": "code",
   "execution_count": 13,
   "id": "cace7404",
   "metadata": {
    "ExecuteTime": {
     "start_time": "2023-05-02T16:13:01.407887Z",
     "end_time": "2023-05-02T16:13:01.464075Z"
    }
   },
   "outputs": [],
   "source": [
    "# Read TaxiZones.csv file and create RDD\n",
    "\n",
    "taxiZonesRdd = sc.textFile(\"./../files/input/TaxiZones.csv\")"
   ]
  },
  {
   "cell_type": "code",
   "execution_count": 14,
   "id": "1f2065cc",
   "metadata": {
    "ExecuteTime": {
     "start_time": "2023-05-02T16:13:15.284135Z",
     "end_time": "2023-05-02T16:13:15.455871Z"
    }
   },
   "outputs": [
    {
     "data": {
      "text/plain": "['1,EWR,Newark Airport,EWR',\n '2,Queens,Jamaica Bay,Boro Zone',\n '3,Bronx,Allerton/Pelham Gardens,Boro Zone',\n '4,Manhattan,Alphabet City,Yellow Zone',\n '5,Staten Island,Arden Heights,Boro Zone',\n '6,Staten Island,Arrochar/Fort Wadsworth,Boro Zone',\n '7,Queens,Astoria,Boro Zone',\n '8,Queens,Astoria Park,Boro Zone',\n '9,Queens,Auburndale,Boro Zone',\n '10,Queens,Baisley Park,Boro Zone']"
     },
     "execution_count": 14,
     "metadata": {},
     "output_type": "execute_result"
    }
   ],
   "source": [
    "# Get 10 records\n",
    "\n",
    "taxiZonesRdd.take(10)"
   ]
  },
  {
   "cell_type": "code",
   "execution_count": 15,
   "id": "78d6142e",
   "metadata": {
    "ExecuteTime": {
     "start_time": "2023-05-02T16:13:35.410890Z",
     "end_time": "2023-05-02T16:13:35.429421Z"
    }
   },
   "outputs": [
    {
     "data": {
      "text/plain": "2"
     },
     "execution_count": 15,
     "metadata": {},
     "output_type": "execute_result"
    }
   ],
   "source": [
    "# Check RDD partitions\n",
    "\n",
    "taxiZonesRdd.getNumPartitions()"
   ]
  },
  {
   "cell_type": "code",
   "execution_count": 16,
   "id": "d113c69b",
   "metadata": {
    "ExecuteTime": {
     "start_time": "2023-05-02T16:13:57.228842Z",
     "end_time": "2023-05-02T16:13:57.292692Z"
    }
   },
   "outputs": [
    {
     "data": {
      "text/plain": "4"
     },
     "execution_count": 16,
     "metadata": {},
     "output_type": "execute_result"
    }
   ],
   "source": [
    "# Read TaxiZones.csv file and create RDD (with 4 partitions)\n",
    "\n",
    "taxiZonesRdd = sc.textFile(\"./../files/input/TaxiZones.csv\", 4)\n",
    "\n",
    "taxiZonesRdd.getNumPartitions()"
   ]
  },
  {
   "cell_type": "markdown",
   "id": "f81054d7",
   "metadata": {},
   "source": [
    "### Create RDD - Option 3: Convert another RDD"
   ]
  },
  {
   "cell_type": "code",
   "execution_count": 17,
   "id": "7b047249",
   "metadata": {
    "ExecuteTime": {
     "start_time": "2023-05-02T16:14:19.172523Z",
     "end_time": "2023-05-02T16:14:19.234052Z"
    }
   },
   "outputs": [
    {
     "data": {
      "text/plain": "[['1', 'EWR', 'Newark Airport', 'EWR'],\n ['2', 'Queens', 'Jamaica Bay', 'Boro Zone'],\n ['3', 'Bronx', 'Allerton/Pelham Gardens', 'Boro Zone'],\n ['4', 'Manhattan', 'Alphabet City', 'Yellow Zone'],\n ['5', 'Staten Island', 'Arden Heights', 'Boro Zone']]"
     },
     "execution_count": 17,
     "metadata": {},
     "output_type": "execute_result"
    }
   ],
   "source": [
    "# Apply map operation to split each record by comma, and get array of items\n",
    "\n",
    "taxiZonesWithColsRdd = (\n",
    "    taxiZonesRdd\n",
    "        .map( lambda zone: zone.split(\",\") )\n",
    "    )\n",
    "\n",
    "taxiZonesWithColsRdd.take(5)"
   ]
  },
  {
   "cell_type": "code",
   "execution_count": 58,
   "id": "d55e59eb",
   "metadata": {
    "ExecuteTime": {
     "start_time": "2023-05-02T11:16:11.377521Z",
     "end_time": "2023-05-02T11:16:11.503266Z"
    }
   },
   "outputs": [
    {
     "data": {
      "text/plain": "[['41', 'Manhattan', 'Central Harlem', 'Boro Zone'],\n ['42', 'Manhattan', 'Central Harlem North', 'Boro Zone'],\n ['43', 'Manhattan', 'Central Park', 'Yellow Zone']]"
     },
     "execution_count": 58,
     "metadata": {},
     "output_type": "execute_result"
    }
   ],
   "source": [
    "# Apply filter operation\n",
    "# Get data where Borough is 'Manhattan' and Zone begins with 'central'\n",
    "\n",
    "filteredZonesRdd = (\n",
    "                        taxiZonesWithColsRdd\n",
    "    \n",
    "                            .filter( lambda zoneRow: zoneRow[1] == \"Manhattan\" \n",
    "\n",
    "                                                 and zoneRow[2].lower().startswith(\"central\")\n",
    "                                   )\n",
    "                   )\n",
    "\n",
    "filteredZonesRdd.take(5)"
   ]
  },
  {
   "cell_type": "code",
   "execution_count": null,
   "id": "7bb3f7d1",
   "metadata": {},
   "outputs": [],
   "source": [
    "# Get list of Zones with even LocationId\n",
    "\n",
    "evenZoneIds = (\n",
    "                    taxiZonesRdd\n",
    "    \n",
    "                        .filter( lambda zoneRow: int(zoneRow[0]) % 2 == 0 )\n",
    "              )\n",
    "\n",
    "evenZoneIds.take(5)"
   ]
  },
  {
   "cell_type": "markdown",
   "id": "d8a78387",
   "metadata": {},
   "source": [
    "### Pair RDDs"
   ]
  },
  {
   "cell_type": "code",
   "execution_count": 59,
   "id": "57b23850",
   "metadata": {
    "ExecuteTime": {
     "start_time": "2023-05-02T11:17:01.340964Z",
     "end_time": "2023-05-02T11:17:01.402485Z"
    }
   },
   "outputs": [
    {
     "data": {
      "text/plain": "[(2, 1.4142135623730951),\n (3, 1.7320508075688772),\n (4, 2.0),\n (5, 2.23606797749979),\n (6, 2.449489742783178)]"
     },
     "execution_count": 59,
     "metadata": {},
     "output_type": "execute_result"
    }
   ],
   "source": [
    "import math\n",
    "\n",
    "numbersRDD = sc.parallelize( [2, 3, 4, 5, 6] )\n",
    "\n",
    "# Create Pair RDD\n",
    "numsWithSquareRootRdd = (\n",
    "                            numbersRDD\n",
    "    \n",
    "                                .map(lambda num: (\n",
    "                                                    num,\n",
    "                                                    math.sqrt(num)\n",
    "                                                 )\n",
    "                                    )\n",
    "                        )\n",
    "\n",
    "numsWithSquareRootRdd.collect()"
   ]
  },
  {
   "cell_type": "code",
   "execution_count": 60,
   "id": "c355262f",
   "metadata": {
    "ExecuteTime": {
     "start_time": "2023-05-02T11:17:52.256294Z",
     "end_time": "2023-05-02T11:17:52.357061Z"
    }
   },
   "outputs": [
    {
     "data": {
      "text/plain": "[('1', ['1', 'EWR', 'Newark Airport', 'EWR']),\n ('2', ['2', 'Queens', 'Jamaica Bay', 'Boro Zone']),\n ('3', ['3', 'Bronx', 'Allerton/Pelham Gardens', 'Boro Zone']),\n ('4', ['4', 'Manhattan', 'Alphabet City', 'Yellow Zone']),\n ('5', ['5', 'Staten Island', 'Arden Heights', 'Boro Zone']),\n ('6', ['6', 'Staten Island', 'Arrochar/Fort Wadsworth', 'Boro Zone']),\n ('7', ['7', 'Queens', 'Astoria', 'Boro Zone']),\n ('8', ['8', 'Queens', 'Astoria Park', 'Boro Zone']),\n ('9', ['9', 'Queens', 'Auburndale', 'Boro Zone']),\n ('10', ['10', 'Queens', 'Baisley Park', 'Boro Zone'])]"
     },
     "execution_count": 60,
     "metadata": {},
     "output_type": "execute_result"
    }
   ],
   "source": [
    "# Use taxiZonesWithColsRdd and create a Pair RDD (LocationId as Key, Zone Details as Value)\n",
    "\n",
    "taxiZonesPairRdd = (\n",
    "                        taxiZonesWithColsRdd\n",
    "    \n",
    "                            .map(lambda zoneRow: ( \n",
    "                                                    zoneRow[0],\n",
    "                                                    zoneRow\n",
    "                                                 )\n",
    "                                )\n",
    "                   )\n",
    "\n",
    "taxiZonesPairRdd.take(10)"
   ]
  },
  {
   "cell_type": "markdown",
   "id": "6220a4f5",
   "metadata": {},
   "source": [
    "### Calculate count of records for each Borough"
   ]
  },
  {
   "cell_type": "code",
   "execution_count": 61,
   "id": "69449b14",
   "metadata": {
    "ExecuteTime": {
     "start_time": "2023-05-02T11:18:10.624546Z",
     "end_time": "2023-05-02T11:18:10.666353Z"
    }
   },
   "outputs": [
    {
     "data": {
      "text/plain": "[('EWR', 1),\n ('Queens', 1),\n ('Bronx', 1),\n ('Manhattan', 1),\n ('Staten Island', 1),\n ('Staten Island', 1),\n ('Queens', 1),\n ('Queens', 1),\n ('Queens', 1),\n ('Queens', 1)]"
     },
     "execution_count": 61,
     "metadata": {},
     "output_type": "execute_result"
    }
   ],
   "source": [
    "# Create Pair RDD (locationId as Key, Value as 1)\n",
    "\n",
    "taxiZonesPairRdd = (\n",
    "                        taxiZonesWithColsRdd\n",
    "    \n",
    "                            .map(lambda zoneRow: ( \n",
    "                                                    zoneRow[1],   # Key   - Borough\n",
    "                                                    1             # Value - 1\n",
    "                                                 )\n",
    "                                )\n",
    "                   )\n",
    "\n",
    "taxiZonesPairRdd.take(10)"
   ]
  },
  {
   "cell_type": "code",
   "execution_count": 62,
   "id": "d93e3318",
   "metadata": {
    "ExecuteTime": {
     "start_time": "2023-05-02T11:18:19.687083Z",
     "end_time": "2023-05-02T11:18:20.314314Z"
    }
   },
   "outputs": [
    {
     "data": {
      "text/plain": "[('Bronx', 43),\n ('Staten Island', 20),\n ('EWR', 1),\n ('Manhattan', 69),\n ('Brooklyn', 61),\n ('Unknown', 2),\n ('Queens', 69)]"
     },
     "execution_count": 62,
     "metadata": {},
     "output_type": "execute_result"
    }
   ],
   "source": [
    "# Calculate count of records for each Borough\n",
    "\n",
    "boroughCountRdd = (\n",
    "                        taxiZonesPairRdd\n",
    "    \n",
    "                            .reduceByKey( lambda value1, value2: value1 + value2 )\n",
    "                  )\n",
    "\n",
    "boroughCountRdd.collect()"
   ]
  },
  {
   "cell_type": "code",
   "execution_count": 63,
   "id": "a42b0007",
   "metadata": {
    "ExecuteTime": {
     "start_time": "2023-05-02T11:18:21.714989Z",
     "end_time": "2023-05-02T11:18:21.929603Z"
    }
   },
   "outputs": [
    {
     "data": {
      "text/plain": "[('Bronx', 1),\n ('Bronx', 1),\n ('Bronx', 1),\n ('Bronx', 1),\n ('Bronx', 1),\n ('Bronx', 1),\n ('Bronx', 1),\n ('Bronx', 1),\n ('Bronx', 1),\n ('Bronx', 1),\n ('Bronx', 1),\n ('Bronx', 1),\n ('Bronx', 1),\n ('Bronx', 1),\n ('Bronx', 1),\n ('Bronx', 1),\n ('Bronx', 1),\n ('Bronx', 1),\n ('Bronx', 1),\n ('Bronx', 1),\n ('Bronx', 1),\n ('Bronx', 1),\n ('Bronx', 1),\n ('Bronx', 1),\n ('Bronx', 1),\n ('Bronx', 1),\n ('Bronx', 1),\n ('Bronx', 1),\n ('Bronx', 1),\n ('Bronx', 1),\n ('Bronx', 1),\n ('Bronx', 1),\n ('Bronx', 1),\n ('Bronx', 1),\n ('Bronx', 1),\n ('Bronx', 1),\n ('Bronx', 1),\n ('Bronx', 1),\n ('Bronx', 1),\n ('Bronx', 1),\n ('Bronx', 1),\n ('Bronx', 1),\n ('Bronx', 1),\n ('Brooklyn', 1),\n ('Brooklyn', 1),\n ('Brooklyn', 1),\n ('Brooklyn', 1),\n ('Brooklyn', 1),\n ('Brooklyn', 1),\n ('Brooklyn', 1),\n ('Brooklyn', 1),\n ('Brooklyn', 1),\n ('Brooklyn', 1),\n ('Brooklyn', 1),\n ('Brooklyn', 1),\n ('Brooklyn', 1),\n ('Brooklyn', 1),\n ('Brooklyn', 1),\n ('Brooklyn', 1),\n ('Brooklyn', 1),\n ('Brooklyn', 1),\n ('Brooklyn', 1),\n ('Brooklyn', 1),\n ('Brooklyn', 1),\n ('Brooklyn', 1),\n ('Brooklyn', 1),\n ('Brooklyn', 1),\n ('Brooklyn', 1),\n ('Brooklyn', 1),\n ('Brooklyn', 1),\n ('Brooklyn', 1),\n ('Brooklyn', 1),\n ('Brooklyn', 1),\n ('Brooklyn', 1),\n ('Brooklyn', 1),\n ('Brooklyn', 1),\n ('Brooklyn', 1),\n ('Brooklyn', 1),\n ('Brooklyn', 1),\n ('Brooklyn', 1),\n ('Brooklyn', 1),\n ('Brooklyn', 1),\n ('Brooklyn', 1),\n ('Brooklyn', 1),\n ('Brooklyn', 1),\n ('Brooklyn', 1),\n ('Brooklyn', 1),\n ('Brooklyn', 1),\n ('Brooklyn', 1),\n ('Brooklyn', 1),\n ('Brooklyn', 1),\n ('Brooklyn', 1),\n ('Brooklyn', 1),\n ('Brooklyn', 1),\n ('Brooklyn', 1),\n ('Brooklyn', 1),\n ('Brooklyn', 1),\n ('Brooklyn', 1),\n ('Brooklyn', 1),\n ('Brooklyn', 1),\n ('Brooklyn', 1),\n ('Brooklyn', 1),\n ('Brooklyn', 1),\n ('Brooklyn', 1),\n ('EWR', 1),\n ('Manhattan', 1),\n ('Manhattan', 1),\n ('Manhattan', 1),\n ('Manhattan', 1),\n ('Manhattan', 1),\n ('Manhattan', 1),\n ('Manhattan', 1),\n ('Manhattan', 1),\n ('Manhattan', 1),\n ('Manhattan', 1),\n ('Manhattan', 1),\n ('Manhattan', 1),\n ('Manhattan', 1),\n ('Manhattan', 1),\n ('Manhattan', 1),\n ('Manhattan', 1),\n ('Manhattan', 1),\n ('Manhattan', 1),\n ('Manhattan', 1),\n ('Manhattan', 1),\n ('Manhattan', 1),\n ('Manhattan', 1),\n ('Manhattan', 1),\n ('Manhattan', 1),\n ('Manhattan', 1),\n ('Manhattan', 1),\n ('Manhattan', 1),\n ('Manhattan', 1),\n ('Manhattan', 1),\n ('Manhattan', 1),\n ('Manhattan', 1),\n ('Manhattan', 1),\n ('Manhattan', 1),\n ('Manhattan', 1),\n ('Manhattan', 1),\n ('Manhattan', 1),\n ('Manhattan', 1),\n ('Manhattan', 1),\n ('Manhattan', 1),\n ('Manhattan', 1),\n ('Manhattan', 1),\n ('Manhattan', 1),\n ('Manhattan', 1),\n ('Manhattan', 1),\n ('Manhattan', 1),\n ('Manhattan', 1),\n ('Manhattan', 1),\n ('Manhattan', 1),\n ('Manhattan', 1),\n ('Manhattan', 1),\n ('Manhattan', 1),\n ('Manhattan', 1),\n ('Manhattan', 1),\n ('Manhattan', 1),\n ('Manhattan', 1),\n ('Manhattan', 1),\n ('Manhattan', 1),\n ('Manhattan', 1),\n ('Manhattan', 1),\n ('Manhattan', 1),\n ('Manhattan', 1),\n ('Manhattan', 1),\n ('Manhattan', 1),\n ('Manhattan', 1),\n ('Manhattan', 1),\n ('Manhattan', 1),\n ('Manhattan', 1),\n ('Manhattan', 1),\n ('Manhattan', 1),\n ('Queens', 1),\n ('Queens', 1),\n ('Queens', 1),\n ('Queens', 1),\n ('Queens', 1),\n ('Queens', 1),\n ('Queens', 1),\n ('Queens', 1),\n ('Queens', 1),\n ('Queens', 1),\n ('Queens', 1),\n ('Queens', 1),\n ('Queens', 1),\n ('Queens', 1),\n ('Queens', 1),\n ('Queens', 1),\n ('Queens', 1),\n ('Queens', 1),\n ('Queens', 1),\n ('Queens', 1),\n ('Queens', 1),\n ('Queens', 1),\n ('Queens', 1),\n ('Queens', 1),\n ('Queens', 1),\n ('Queens', 1),\n ('Queens', 1),\n ('Queens', 1),\n ('Queens', 1),\n ('Queens', 1),\n ('Queens', 1),\n ('Queens', 1),\n ('Queens', 1),\n ('Queens', 1),\n ('Queens', 1),\n ('Queens', 1),\n ('Queens', 1),\n ('Queens', 1),\n ('Queens', 1),\n ('Queens', 1),\n ('Queens', 1),\n ('Queens', 1),\n ('Queens', 1),\n ('Queens', 1),\n ('Queens', 1),\n ('Queens', 1),\n ('Queens', 1),\n ('Queens', 1),\n ('Queens', 1),\n ('Queens', 1),\n ('Queens', 1),\n ('Queens', 1),\n ('Queens', 1),\n ('Queens', 1),\n ('Queens', 1),\n ('Queens', 1),\n ('Queens', 1),\n ('Queens', 1),\n ('Queens', 1),\n ('Queens', 1),\n ('Queens', 1),\n ('Queens', 1),\n ('Queens', 1),\n ('Queens', 1),\n ('Queens', 1),\n ('Queens', 1),\n ('Queens', 1),\n ('Queens', 1),\n ('Queens', 1),\n ('Staten Island', 1),\n ('Staten Island', 1),\n ('Staten Island', 1),\n ('Staten Island', 1),\n ('Staten Island', 1),\n ('Staten Island', 1),\n ('Staten Island', 1),\n ('Staten Island', 1),\n ('Staten Island', 1),\n ('Staten Island', 1),\n ('Staten Island', 1),\n ('Staten Island', 1),\n ('Staten Island', 1),\n ('Staten Island', 1),\n ('Staten Island', 1),\n ('Staten Island', 1),\n ('Staten Island', 1),\n ('Staten Island', 1),\n ('Staten Island', 1),\n ('Staten Island', 1),\n ('Unknown', 1),\n ('Unknown', 1)]"
     },
     "execution_count": 63,
     "metadata": {},
     "output_type": "execute_result"
    }
   ],
   "source": [
    "# Sort the data by Key\n",
    "\n",
    "(\n",
    "    taxiZonesPairRdd\n",
    "    \n",
    "        .sortByKey()\n",
    "    \n",
    "        .collect()\n",
    ")"
   ]
  },
  {
   "cell_type": "code",
   "execution_count": 64,
   "id": "f47da012",
   "metadata": {
    "ExecuteTime": {
     "start_time": "2023-05-02T11:18:22.950330Z",
     "end_time": "2023-05-02T11:18:22.988525Z"
    }
   },
   "outputs": [
    {
     "data": {
      "text/plain": "['EWR',\n 'Queens',\n 'Bronx',\n 'Manhattan',\n 'Staten Island',\n 'Staten Island',\n 'Queens',\n 'Queens',\n 'Queens',\n 'Queens']"
     },
     "execution_count": 64,
     "metadata": {},
     "output_type": "execute_result"
    }
   ],
   "source": [
    "# Only return the keys\n",
    "\n",
    "(\n",
    "    taxiZonesPairRdd\n",
    "    \n",
    "        .keys()\n",
    "    \n",
    "        .take(10)\n",
    ")"
   ]
  },
  {
   "cell_type": "code",
   "execution_count": 65,
   "id": "fcaaffa2",
   "metadata": {
    "ExecuteTime": {
     "start_time": "2023-05-02T11:18:23.991417Z",
     "end_time": "2023-05-02T11:18:24.026085Z"
    }
   },
   "outputs": [
    {
     "data": {
      "text/plain": "[1, 1, 1, 1, 1, 1, 1, 1, 1, 1]"
     },
     "execution_count": 65,
     "metadata": {},
     "output_type": "execute_result"
    }
   ],
   "source": [
    "# Only return the values\n",
    "\n",
    "(\n",
    "    taxiZonesPairRdd\n",
    "    \n",
    "        .values()\n",
    "    \n",
    "        .take(10)\n",
    ")"
   ]
  },
  {
   "cell_type": "code",
   "execution_count": 66,
   "id": "11528f4e",
   "metadata": {
    "ExecuteTime": {
     "start_time": "2023-05-02T11:18:25.283141Z",
     "end_time": "2023-05-02T11:18:25.422218Z"
    }
   },
   "outputs": [
    {
     "data": {
      "text/plain": "[('Bronx', 1),\n ('Staten Island', 1),\n ('Queens', 1),\n ('EWR', 1),\n ('Manhattan', 1),\n ('Brooklyn', 1),\n ('Unknown', 1)]"
     },
     "execution_count": 66,
     "metadata": {},
     "output_type": "execute_result"
    }
   ],
   "source": [
    "# Return distinct pairs\n",
    "\n",
    "(\n",
    "    taxiZonesPairRdd\n",
    "    \n",
    "        .distinct()\n",
    "    \n",
    "        .collect()\n",
    ")"
   ]
  },
  {
   "cell_type": "code",
   "execution_count": null,
   "id": "e7138341",
   "metadata": {},
   "outputs": [],
   "source": []
  },
  {
   "cell_type": "code",
   "execution_count": null,
   "id": "8c67a139",
   "metadata": {},
   "outputs": [],
   "source": []
  },
  {
   "cell_type": "code",
   "execution_count": null,
   "id": "7cf70d95",
   "metadata": {},
   "outputs": [],
   "source": []
  },
  {
   "cell_type": "code",
   "execution_count": null,
   "id": "297109b3",
   "metadata": {},
   "outputs": [],
   "source": []
  },
  {
   "cell_type": "code",
   "execution_count": null,
   "id": "eb5bb6f6",
   "metadata": {},
   "outputs": [],
   "source": []
  },
  {
   "cell_type": "code",
   "execution_count": null,
   "id": "93569fec",
   "metadata": {},
   "outputs": [],
   "source": []
  },
  {
   "cell_type": "code",
   "execution_count": null,
   "id": "17479e12",
   "metadata": {},
   "outputs": [],
   "source": []
  },
  {
   "cell_type": "code",
   "execution_count": null,
   "id": "93b29b35",
   "metadata": {},
   "outputs": [],
   "source": []
  },
  {
   "cell_type": "code",
   "execution_count": null,
   "id": "1d93a5b4",
   "metadata": {},
   "outputs": [],
   "source": []
  },
  {
   "cell_type": "code",
   "execution_count": null,
   "id": "5b2d0e80",
   "metadata": {},
   "outputs": [],
   "source": []
  },
  {
   "cell_type": "code",
   "execution_count": null,
   "id": "1db74573",
   "metadata": {},
   "outputs": [],
   "source": []
  },
  {
   "cell_type": "code",
   "execution_count": null,
   "id": "0a6a9b63",
   "metadata": {},
   "outputs": [],
   "source": []
  },
  {
   "cell_type": "code",
   "execution_count": null,
   "id": "11d8d0f1",
   "metadata": {},
   "outputs": [],
   "source": []
  },
  {
   "cell_type": "code",
   "execution_count": null,
   "id": "e7aead32",
   "metadata": {},
   "outputs": [],
   "source": []
  }
 ],
 "metadata": {
  "kernelspec": {
   "display_name": "Python 3 (ipykernel)",
   "language": "python",
   "name": "python3"
  },
  "language_info": {
   "codemirror_mode": {
    "name": "ipython",
    "version": 3
   },
   "file_extension": ".py",
   "mimetype": "text/x-python",
   "name": "python",
   "nbconvert_exporter": "python",
   "pygments_lexer": "ipython3",
   "version": "3.9.16"
  }
 },
 "nbformat": 4,
 "nbformat_minor": 5
}
