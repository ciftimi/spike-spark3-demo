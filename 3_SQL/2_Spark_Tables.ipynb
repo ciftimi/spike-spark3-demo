{
 "cells": [
  {
   "cell_type": "code",
   "execution_count": 1,
   "id": "005bb575",
   "metadata": {
    "ExecuteTime": {
     "start_time": "2023-05-02T12:12:05.865341Z",
     "end_time": "2023-05-02T12:12:05.884998Z"
    }
   },
   "outputs": [
    {
     "data": {
      "text/plain": "'/usr/local/opt/apache-spark/libexec'"
     },
     "execution_count": 1,
     "metadata": {},
     "output_type": "execute_result"
    }
   ],
   "source": [
    "import findspark\n",
    "findspark.init()\n",
    "findspark.find()"
   ]
  },
  {
   "cell_type": "code",
   "execution_count": 2,
   "id": "7e7b6122",
   "metadata": {
    "ExecuteTime": {
     "start_time": "2023-05-02T12:12:17.984233Z",
     "end_time": "2023-05-02T12:12:17.994634Z"
    }
   },
   "outputs": [
    {
     "data": {
      "text/plain": "<IPython.core.display.HTML object>",
      "text/html": "<style>pre { white-space: pre !important; }</style>"
     },
     "metadata": {},
     "output_type": "display_data"
    }
   ],
   "source": [
    "from IPython.display import *\n",
    "display(HTML(\"<style>pre { white-space: pre !important; }</style>\"))"
   ]
  },
  {
   "cell_type": "code",
   "execution_count": 3,
   "id": "77a9a007",
   "metadata": {
    "ExecuteTime": {
     "start_time": "2023-05-02T12:12:22.747174Z",
     "end_time": "2023-05-02T12:12:27.601972Z"
    }
   },
   "outputs": [
    {
     "name": "stderr",
     "output_type": "stream",
     "text": [
      "Setting default log level to \"WARN\".\n",
      "To adjust logging level use sc.setLogLevel(newLevel). For SparkR, use setLogLevel(newLevel).\n"
     ]
    },
    {
     "name": "stdout",
     "output_type": "stream",
     "text": [
      "23/05/02 12:12:25 WARN NativeCodeLoader: Unable to load native-hadoop library for your platform... using builtin-java classes where applicable\n",
      "23/05/02 12:12:26 WARN Utils: Service 'SparkUI' could not bind on port 4040. Attempting port 4041.\n",
      "23/05/02 12:12:26 WARN Utils: Service 'SparkUI' could not bind on port 4041. Attempting port 4042.\n",
      "23/05/02 12:12:26 WARN Utils: Service 'SparkUI' could not bind on port 4042. Attempting port 4043.\n",
      "23/05/02 12:12:26 WARN Utils: Service 'SparkUI' could not bind on port 4043. Attempting port 4044.\n"
     ]
    },
    {
     "data": {
      "text/plain": "<pyspark.sql.session.SparkSession at 0x104909790>",
      "text/html": "\n            <div>\n                <p><b>SparkSession - hive</b></p>\n                \n        <div>\n            <p><b>SparkContext</b></p>\n\n            <p><a href=\"http://192.168.0.118:4044\">Spark UI</a></p>\n\n            <dl>\n              <dt>Version</dt>\n                <dd><code>v3.3.2</code></dd>\n              <dt>Master</dt>\n                <dd><code>local[4]</code></dd>\n              <dt>AppName</dt>\n                <dd><code>SparkTablesApp</code></dd>\n            </dl>\n        </div>\n        \n            </div>\n        "
     },
     "execution_count": 3,
     "metadata": {},
     "output_type": "execute_result"
    }
   ],
   "source": [
    "from pyspark.sql import SparkSession\n",
    "from pyspark.sql.types import *\n",
    "from pyspark.sql.functions import *\n",
    "\n",
    "spark = (\n",
    "            SparkSession\n",
    "                .builder\n",
    "                .appName(\"SparkTablesApp\")\n",
    "                .master(\"local[4]\")\n",
    "    \n",
    "                .config(\"spark.dynamicAllocation.enabled\", \"false\")\n",
    "                .config(\"spark.sql.adaptive.enabled\", \"false\")\n",
    "    \n",
    "                # ============== Enable Hive support for permanent storage ===========\n",
    "                .enableHiveSupport()\n",
    "                \n",
    "                .getOrCreate()\n",
    "        )\n",
    "\n",
    "sc = spark.sparkContext\n",
    "\n",
    "spark"
   ]
  },
  {
   "cell_type": "code",
   "execution_count": 4,
   "id": "4e8c9473",
   "metadata": {
    "ExecuteTime": {
     "start_time": "2023-05-02T12:12:38.687737Z",
     "end_time": "2023-05-02T12:12:40.887700Z"
    }
   },
   "outputs": [
    {
     "name": "stdout",
     "output_type": "stream",
     "text": [
      "root\n",
      " |-- VendorId: integer (nullable = true)\n",
      " |-- lpep_pickup_datetime: timestamp (nullable = true)\n",
      " |-- lpep_dropoff_datetime: timestamp (nullable = true)\n",
      " |-- passenger_count: double (nullable = true)\n",
      " |-- trip_distance: double (nullable = true)\n",
      " |-- RatecodeID: double (nullable = true)\n",
      " |-- store_and_fwd_flag: string (nullable = true)\n",
      " |-- PULocationID: integer (nullable = true)\n",
      " |-- DOLocationID: integer (nullable = true)\n",
      " |-- payment_type: integer (nullable = true)\n",
      " |-- fare_amount: double (nullable = true)\n",
      " |-- extra: double (nullable = true)\n",
      " |-- mta_tax: double (nullable = true)\n",
      " |-- tip_amount: double (nullable = true)\n",
      " |-- tolls_amount: double (nullable = true)\n",
      " |-- improvement_surcharge: double (nullable = true)\n",
      " |-- total_amount: double (nullable = true)\n",
      " |-- congestion_surcharge: double (nullable = true)\n",
      " |-- airport_fee: double (nullable = true)\n",
      "\n"
     ]
    }
   ],
   "source": [
    "# Create schema for Yellow Taxi data\n",
    "yellowTaxiSchema = (\n",
    "                        StructType\n",
    "                        ([ \n",
    "                            StructField(\"VendorId\"               , IntegerType()   , True),\n",
    "                            StructField(\"lpep_pickup_datetime\"   , TimestampType() , True),\n",
    "                            StructField(\"lpep_dropoff_datetime\"  , TimestampType() , True),\n",
    "                            StructField(\"passenger_count\"        , DoubleType()    , True),\n",
    "                            StructField(\"trip_distance\"          , DoubleType()    , True),\n",
    "                            StructField(\"RatecodeID\"             , DoubleType()    , True),\n",
    "                            StructField(\"store_and_fwd_flag\"     , StringType()    , True),\n",
    "                            StructField(\"PULocationID\"           , IntegerType()   , True),\n",
    "                            StructField(\"DOLocationID\"           , IntegerType()   , True),\n",
    "                            StructField(\"payment_type\"           , IntegerType()   , True),\n",
    "                            StructField(\"fare_amount\"            , DoubleType()    , True),\n",
    "                            StructField(\"extra\"                  , DoubleType()    , True),\n",
    "                            StructField(\"mta_tax\"                , DoubleType()    , True),\n",
    "                            StructField(\"tip_amount\"             , DoubleType()    , True),\n",
    "                            StructField(\"tolls_amount\"           , DoubleType()    , True),\n",
    "                            StructField(\"improvement_surcharge\"  , DoubleType()    , True),\n",
    "                            StructField(\"total_amount\"           , DoubleType()    , True),\n",
    "                            StructField(\"congestion_surcharge\"   , DoubleType()    , True),\n",
    "                            StructField(\"airport_fee\"            , DoubleType()    , True)\n",
    "                        ])\n",
    "                   )\n",
    "\n",
    "# Read YellowTaxis CSV file\n",
    "yellowTaxiDF = (\n",
    "                  spark\n",
    "                    .read\n",
    "                    .option(\"header\", \"true\")    \n",
    "                    .schema(yellowTaxiSchema)    \n",
    "                    .csv(\"./../files/input/YellowTaxis_202210.csv\")\n",
    "               )\n",
    "\n",
    "yellowTaxiDF.printSchema()"
   ]
  },
  {
   "cell_type": "markdown",
   "id": "43c1002f",
   "metadata": {},
   "source": [
    "### Create Database in Hive metastore"
   ]
  },
  {
   "cell_type": "code",
   "execution_count": 5,
   "id": "9a2fec1e",
   "metadata": {
    "ExecuteTime": {
     "start_time": "2023-05-02T12:14:00.147624Z",
     "end_time": "2023-05-02T12:14:06.167808Z"
    }
   },
   "outputs": [
    {
     "name": "stdout",
     "output_type": "stream",
     "text": [
      "+---------+\n",
      "|namespace|\n",
      "+---------+\n",
      "|  default|\n",
      "+---------+\n",
      "\n"
     ]
    }
   ],
   "source": [
    "spark.sql(\"\"\"\n",
    "\n",
    "SHOW DATABASES\n",
    "\n",
    "\"\"\").show()"
   ]
  },
  {
   "cell_type": "code",
   "execution_count": 6,
   "id": "c5c0f831",
   "metadata": {
    "ExecuteTime": {
     "start_time": "2023-05-02T12:15:28.479716Z",
     "end_time": "2023-05-02T12:15:28.806183Z"
    }
   },
   "outputs": [
    {
     "data": {
      "text/plain": "DataFrame[]"
     },
     "execution_count": 6,
     "metadata": {},
     "output_type": "execute_result"
    }
   ],
   "source": [
    "spark.sql(\"\"\"\n",
    "\n",
    "CREATE DATABASE IF NOT EXISTS TaxisDB\n",
    "\n",
    "\"\"\")"
   ]
  },
  {
   "cell_type": "code",
   "execution_count": 9,
   "id": "d028fe6c",
   "metadata": {
    "ExecuteTime": {
     "start_time": "2023-05-02T12:16:01.358142Z",
     "end_time": "2023-05-02T12:16:01.403308Z"
    }
   },
   "outputs": [
    {
     "name": "stdout",
     "output_type": "stream",
     "text": [
      "+---------+\n",
      "|namespace|\n",
      "+---------+\n",
      "|  default|\n",
      "|  taxisdb|\n",
      "+---------+\n",
      "\n"
     ]
    }
   ],
   "source": [
    "spark.sql(\"\"\"\n",
    "\n",
    "SHOW DATABASES\n",
    "\n",
    "\"\"\").show()"
   ]
  },
  {
   "cell_type": "markdown",
   "id": "df36df46",
   "metadata": {},
   "source": [
    "### Save DataFrame as a Managed Spark Table in Hive"
   ]
  },
  {
   "cell_type": "code",
   "execution_count": 8,
   "id": "2db21c2e",
   "metadata": {
    "ExecuteTime": {
     "start_time": "2023-05-02T12:15:44.476922Z",
     "end_time": "2023-05-02T12:16:01.355932Z"
    }
   },
   "outputs": [
    {
     "name": "stderr",
     "output_type": "stream",
     "text": [
      "[Stage 0:>                                                          (0 + 4) / 4]\r"
     ]
    },
    {
     "name": "stdout",
     "output_type": "stream",
     "text": [
      "23/05/02 12:15:47 WARN CSVHeaderChecker: CSV header does not conform to the schema.\n",
      " Header: VendorID, tpep_pickup_datetime, tpep_dropoff_datetime, passenger_count, trip_distance, RatecodeID, store_and_fwd_flag, PULocationID, DOLocationID, payment_type, fare_amount, extra, mta_tax, tip_amount, tolls_amount, improvement_surcharge, total_amount, congestion_surcharge, airport_fee\n",
      " Schema: VendorId, lpep_pickup_datetime, lpep_dropoff_datetime, passenger_count, trip_distance, RatecodeID, store_and_fwd_flag, PULocationID, DOLocationID, payment_type, fare_amount, extra, mta_tax, tip_amount, tolls_amount, improvement_surcharge, total_amount, congestion_surcharge, airport_fee\n",
      "Expected: lpep_pickup_datetime but found: tpep_pickup_datetime\n",
      "CSV file: file:///Users/mac/IdeaProjects/TestSpark3/files/input/YellowTaxis_202210.csv\n"
     ]
    },
    {
     "name": "stderr",
     "output_type": "stream",
     "text": [
      "                                                                                \r"
     ]
    }
   ],
   "source": [
    "(\n",
    "    yellowTaxiDF\n",
    "            .write\n",
    "            \n",
    "            .mode(\"overwrite\")\n",
    "    \n",
    "            .saveAsTable(\"TaxisDB.YellowTaxisManaged\")\n",
    ")"
   ]
  },
  {
   "cell_type": "code",
   "execution_count": 10,
   "id": "81eb6f7b",
   "metadata": {
    "ExecuteTime": {
     "start_time": "2023-05-02T12:16:04.977825Z",
     "end_time": "2023-05-02T12:16:05.280255Z"
    }
   },
   "outputs": [
    {
     "name": "stdout",
     "output_type": "stream",
     "text": [
      "+---------+------------------+-----------+\n",
      "|namespace|tableName         |isTemporary|\n",
      "+---------+------------------+-----------+\n",
      "|taxisdb  |yellowtaxismanaged|false      |\n",
      "+---------+------------------+-----------+\n",
      "\n"
     ]
    }
   ],
   "source": [
    "spark.sql(\"\"\"\n",
    "\n",
    "SHOW TABLES IN TaxisDB\n",
    "\n",
    "\"\"\").show(50, truncate=False)"
   ]
  },
  {
   "cell_type": "markdown",
   "id": "f65d1c48",
   "metadata": {},
   "source": [
    "### Run queries on Managed Spark Table"
   ]
  },
  {
   "cell_type": "code",
   "execution_count": 11,
   "id": "0d9ec00c",
   "metadata": {
    "ExecuteTime": {
     "start_time": "2023-05-02T12:16:27.210913Z",
     "end_time": "2023-05-02T12:16:28.457755Z"
    }
   },
   "outputs": [
    {
     "name": "stdout",
     "output_type": "stream",
     "text": [
      "+--------+--------------------+---------------------+---------------+-------------+----------+------------------+------------+------------+------------+-----------+-----+-------+----------+------------+---------------------+------------+--------------------+-----------+\n",
      "|VendorId|lpep_pickup_datetime|lpep_dropoff_datetime|passenger_count|trip_distance|RatecodeID|store_and_fwd_flag|PULocationID|DOLocationID|payment_type|fare_amount|extra|mta_tax|tip_amount|tolls_amount|improvement_surcharge|total_amount|congestion_surcharge|airport_fee|\n",
      "+--------+--------------------+---------------------+---------------+-------------+----------+------------------+------------+------------+------------+-----------+-----+-------+----------+------------+---------------------+------------+--------------------+-----------+\n",
      "|       2| 2022-10-09 16:03:31|  2022-10-09 16:36:57|            1.0|         2.65|       1.0|                 N|         151|         142|           1|       21.0|  0.0|    0.5|      4.86|         0.0|                  0.3|       29.16|                 2.5|        0.0|\n",
      "|       2| 2022-10-09 16:38:46|  2022-10-09 17:01:10|            1.0|         2.35|       1.0|                 N|         142|         186|           1|       15.0|  0.0|    0.5|      5.49|         0.0|                  0.3|       23.79|                 2.5|        0.0|\n",
      "|       2| 2022-10-09 16:32:28|  2022-10-09 16:44:25|            1.0|         1.15|       1.0|                 N|         162|         237|           2|        9.0|  0.0|    0.5|       0.0|         0.0|                  0.3|        12.3|                 2.5|        0.0|\n",
      "|       2| 2022-10-09 16:55:13|  2022-10-09 16:58:10|            1.0|         0.77|       1.0|                 N|         237|         263|           1|        4.5|  0.0|    0.5|      1.56|         0.0|                  0.3|        9.36|                 2.5|        0.0|\n",
      "|       2| 2022-10-09 16:59:18|  2022-10-09 17:10:09|            1.0|          2.6|       1.0|                 N|         231|         246|           1|       10.5|  0.0|    0.5|      2.76|         0.0|                  0.3|       16.56|                 2.5|        0.0|\n",
      "|       1| 2022-10-09 16:09:36|  2022-10-09 16:36:54|            1.0|         10.2|       1.0|                 N|          70|          33|           1|       30.0|  0.0|    0.5|      6.15|         0.0|                  0.3|       36.95|                 0.0|        0.0|\n",
      "|       1| 2022-10-09 16:42:17|  2022-10-09 17:02:40|            2.0|          4.0|       1.0|                 N|          65|          90|           1|       16.0|  2.5|    0.5|      3.85|         0.0|                  0.3|       23.15|                 2.5|        0.0|\n",
      "|       1| 2022-10-09 16:27:54|  2022-10-09 16:55:44|            1.0|          8.9|       1.0|                 N|         151|         138|           1|       29.5|  0.0|    0.5|       6.0|        6.55|                  0.3|       42.85|                 0.0|        0.0|\n",
      "|       2| 2022-10-09 16:42:32|  2022-10-09 17:06:30|            1.0|         5.63|       1.0|                 N|         140|         144|           1|       21.0|  0.0|    0.5|      6.08|         0.0|                  0.3|       30.38|                 2.5|        0.0|\n",
      "|       2| 2022-10-09 16:59:17|  2022-10-09 17:07:19|            1.0|          0.9|       1.0|                 N|         264|          68|           1|        7.0|  0.0|    0.5|      1.56|         0.0|                  0.3|        9.36|                 0.0|        0.0|\n",
      "+--------+--------------------+---------------------+---------------+-------------+----------+------------------+------------+------------+------------+-----------+-----+-------+----------+------------+---------------------+------------+--------------------+-----------+\n",
      "\n"
     ]
    }
   ],
   "source": [
    "spark.sql(\"\"\"\n",
    "\n",
    "SELECT *\n",
    "\n",
    "FROM TaxisDB.YellowTaxisManaged\n",
    "\n",
    "LIMIT 10\n",
    "\n",
    "\"\"\").show()"
   ]
  },
  {
   "cell_type": "code",
   "execution_count": 11,
   "id": "b6038307",
   "metadata": {},
   "outputs": [
    {
     "name": "stdout",
     "output_type": "stream",
     "text": [
      "+--------+--------------------+---------------------+---------------+-------------+----------+------------------+------------+------------+------------+-----------+-----+-------+----------+------------+---------------------+------------+--------------------+-----------+\n",
      "|VendorId|lpep_pickup_datetime|lpep_dropoff_datetime|passenger_count|trip_distance|RatecodeID|store_and_fwd_flag|PULocationID|DOLocationID|payment_type|fare_amount|extra|mta_tax|tip_amount|tolls_amount|improvement_surcharge|total_amount|congestion_surcharge|airport_fee|\n",
      "+--------+--------------------+---------------------+---------------+-------------+----------+------------------+------------+------------+------------+-----------+-----+-------+----------+------------+---------------------+------------+--------------------+-----------+\n",
      "|       2| 2022-10-09 18:33:31|  2022-10-09 19:06:57|            1.0|         2.65|       1.0|                 N|         151|         142|           1|       21.0|  0.0|    0.5|      4.86|         0.0|                  0.3|       29.16|                 2.5|        0.0|\n",
      "|       2| 2022-10-09 19:08:46|  2022-10-09 19:31:10|            1.0|         2.35|       1.0|                 N|         142|         186|           1|       15.0|  0.0|    0.5|      5.49|         0.0|                  0.3|       23.79|                 2.5|        0.0|\n",
      "|       2| 2022-10-09 19:02:28|  2022-10-09 19:14:25|            1.0|         1.15|       1.0|                 N|         162|         237|           2|        9.0|  0.0|    0.5|       0.0|         0.0|                  0.3|        12.3|                 2.5|        0.0|\n",
      "|       2| 2022-10-09 19:25:13|  2022-10-09 19:28:10|            1.0|         0.77|       1.0|                 N|         237|         263|           1|        4.5|  0.0|    0.5|      1.56|         0.0|                  0.3|        9.36|                 2.5|        0.0|\n",
      "|       2| 2022-10-09 19:29:18|  2022-10-09 19:40:09|            1.0|          2.6|       1.0|                 N|         231|         246|           1|       10.5|  0.0|    0.5|      2.76|         0.0|                  0.3|       16.56|                 2.5|        0.0|\n",
      "|       1| 2022-10-09 18:39:36|  2022-10-09 19:06:54|            1.0|         10.2|       1.0|                 N|          70|          33|           1|       30.0|  0.0|    0.5|      6.15|         0.0|                  0.3|       36.95|                 0.0|        0.0|\n",
      "|       1| 2022-10-09 19:12:17|  2022-10-09 19:32:40|            2.0|          4.0|       1.0|                 N|          65|          90|           1|       16.0|  2.5|    0.5|      3.85|         0.0|                  0.3|       23.15|                 2.5|        0.0|\n",
      "|       1| 2022-10-09 18:57:54|  2022-10-09 19:25:44|            1.0|          8.9|       1.0|                 N|         151|         138|           1|       29.5|  0.0|    0.5|       6.0|        6.55|                  0.3|       42.85|                 0.0|        0.0|\n",
      "|       2| 2022-10-09 19:12:32|  2022-10-09 19:36:30|            1.0|         5.63|       1.0|                 N|         140|         144|           1|       21.0|  0.0|    0.5|      6.08|         0.0|                  0.3|       30.38|                 2.5|        0.0|\n",
      "|       2| 2022-10-09 19:29:17|  2022-10-09 19:37:19|            1.0|          0.9|       1.0|                 N|         264|          68|           1|        7.0|  0.0|    0.5|      1.56|         0.0|                  0.3|        9.36|                 0.0|        0.0|\n",
      "+--------+--------------------+---------------------+---------------+-------------+----------+------------------+------------+------------+------------+-----------+-----+-------+----------+------------+---------------------+------------+--------------------+-----------+\n",
      "\n"
     ]
    }
   ],
   "source": [
    "outputDF = (\n",
    "                spark\n",
    "                    .read\n",
    "                    .table(\"TaxisDB.YellowTaxisManaged\")\n",
    "           )\n",
    "\n",
    "outputDF.limit(10).show()"
   ]
  },
  {
   "cell_type": "code",
   "execution_count": 12,
   "id": "8510dddb",
   "metadata": {
    "ExecuteTime": {
     "start_time": "2023-05-02T12:16:39.884987Z",
     "end_time": "2023-05-02T12:16:40.027194Z"
    }
   },
   "outputs": [
    {
     "name": "stdout",
     "output_type": "stream",
     "text": [
      "+----------------------------+-------------------------------------------------------------------------------------------+-------+\n",
      "|col_name                    |data_type                                                                                  |comment|\n",
      "+----------------------------+-------------------------------------------------------------------------------------------+-------+\n",
      "|VendorId                    |int                                                                                        |null   |\n",
      "|lpep_pickup_datetime        |timestamp                                                                                  |null   |\n",
      "|lpep_dropoff_datetime       |timestamp                                                                                  |null   |\n",
      "|passenger_count             |double                                                                                     |null   |\n",
      "|trip_distance               |double                                                                                     |null   |\n",
      "|RatecodeID                  |double                                                                                     |null   |\n",
      "|store_and_fwd_flag          |string                                                                                     |null   |\n",
      "|PULocationID                |int                                                                                        |null   |\n",
      "|DOLocationID                |int                                                                                        |null   |\n",
      "|payment_type                |int                                                                                        |null   |\n",
      "|fare_amount                 |double                                                                                     |null   |\n",
      "|extra                       |double                                                                                     |null   |\n",
      "|mta_tax                     |double                                                                                     |null   |\n",
      "|tip_amount                  |double                                                                                     |null   |\n",
      "|tolls_amount                |double                                                                                     |null   |\n",
      "|improvement_surcharge       |double                                                                                     |null   |\n",
      "|total_amount                |double                                                                                     |null   |\n",
      "|congestion_surcharge        |double                                                                                     |null   |\n",
      "|airport_fee                 |double                                                                                     |null   |\n",
      "|                            |                                                                                           |       |\n",
      "|# Detailed Table Information|                                                                                           |       |\n",
      "|Database                    |taxisdb                                                                                    |       |\n",
      "|Table                       |yellowtaxismanaged                                                                         |       |\n",
      "|Owner                       |mac                                                                                        |       |\n",
      "|Created Time                |Tue May 02 12:16:01 EEST 2023                                                              |       |\n",
      "|Last Access                 |UNKNOWN                                                                                    |       |\n",
      "|Created By                  |Spark 3.3.2                                                                                |       |\n",
      "|Type                        |MANAGED                                                                                    |       |\n",
      "|Provider                    |parquet                                                                                    |       |\n",
      "|Statistics                  |78241286 bytes                                                                             |       |\n",
      "|Location                    |file:/Users/mac/IdeaProjects/TestSpark3/3_SQL/spark-warehouse/taxisdb.db/yellowtaxismanaged|       |\n",
      "|Serde Library               |org.apache.hadoop.hive.ql.io.parquet.serde.ParquetHiveSerDe                                |       |\n",
      "|InputFormat                 |org.apache.hadoop.hive.ql.io.parquet.MapredParquetInputFormat                              |       |\n",
      "|OutputFormat                |org.apache.hadoop.hive.ql.io.parquet.MapredParquetOutputFormat                             |       |\n",
      "+----------------------------+-------------------------------------------------------------------------------------------+-------+\n",
      "\n"
     ]
    }
   ],
   "source": [
    "spark.sql(\"\"\"\n",
    "\n",
    "DESCRIBE TABLE EXTENDED TaxisDB.YellowTaxisManaged\n",
    "\n",
    "\"\"\").show(50, truncate=False)"
   ]
  },
  {
   "cell_type": "markdown",
   "id": "fff1216b",
   "metadata": {},
   "source": [
    "### Save DataFrame as an Unmanaged / External Spark Table in Hive\n",
    "\n",
    "Only change is to define the path"
   ]
  },
  {
   "cell_type": "code",
   "execution_count": 13,
   "id": "6f5b12a3",
   "metadata": {
    "ExecuteTime": {
     "start_time": "2023-05-02T12:17:01.416318Z",
     "end_time": "2023-05-02T12:17:13.970825Z"
    }
   },
   "outputs": [
    {
     "name": "stdout",
     "output_type": "stream",
     "text": [
      "23/05/02 12:17:01 WARN CSVHeaderChecker: CSV header does not conform to the schema.\n",
      " Header: VendorID, tpep_pickup_datetime, tpep_dropoff_datetime, passenger_count, trip_distance, RatecodeID, store_and_fwd_flag, PULocationID, DOLocationID, payment_type, fare_amount, extra, mta_tax, tip_amount, tolls_amount, improvement_surcharge, total_amount, congestion_surcharge, airport_fee\n",
      " Schema: VendorId, lpep_pickup_datetime, lpep_dropoff_datetime, passenger_count, trip_distance, RatecodeID, store_and_fwd_flag, PULocationID, DOLocationID, payment_type, fare_amount, extra, mta_tax, tip_amount, tolls_amount, improvement_surcharge, total_amount, congestion_surcharge, airport_fee\n",
      "Expected: lpep_pickup_datetime but found: tpep_pickup_datetime\n",
      "CSV file: file:///Users/mac/IdeaProjects/TestSpark3/files/input/YellowTaxis_202210.csv\n"
     ]
    },
    {
     "name": "stderr",
     "output_type": "stream",
     "text": [
      "                                                                                \r"
     ]
    }
   ],
   "source": [
    "(\n",
    "    yellowTaxiDF\n",
    "            .write\n",
    "            \n",
    "            .mode(\"overwrite\")\n",
    "    \n",
    "            .option(\"path\", \"./../files/output/YellowTaxisOutput.parquet\")\n",
    "    \n",
    "            #.option(\"format\", \"csv\")             # Default is 'parquet'\n",
    "    \n",
    "            .saveAsTable(\"TaxisDB.YellowTaxis\")\n",
    ")"
   ]
  },
  {
   "cell_type": "code",
   "execution_count": 14,
   "id": "1387de85",
   "metadata": {
    "ExecuteTime": {
     "start_time": "2023-05-02T12:17:23.894914Z",
     "end_time": "2023-05-02T12:17:24.042194Z"
    }
   },
   "outputs": [
    {
     "name": "stdout",
     "output_type": "stream",
     "text": [
      "+----------------------------+----------------------------------------------------------------------------------------------------+-------+\n",
      "|col_name                    |data_type                                                                                           |comment|\n",
      "+----------------------------+----------------------------------------------------------------------------------------------------+-------+\n",
      "|VendorId                    |int                                                                                                 |null   |\n",
      "|lpep_pickup_datetime        |timestamp                                                                                           |null   |\n",
      "|lpep_dropoff_datetime       |timestamp                                                                                           |null   |\n",
      "|passenger_count             |double                                                                                              |null   |\n",
      "|trip_distance               |double                                                                                              |null   |\n",
      "|RatecodeID                  |double                                                                                              |null   |\n",
      "|store_and_fwd_flag          |string                                                                                              |null   |\n",
      "|PULocationID                |int                                                                                                 |null   |\n",
      "|DOLocationID                |int                                                                                                 |null   |\n",
      "|payment_type                |int                                                                                                 |null   |\n",
      "|fare_amount                 |double                                                                                              |null   |\n",
      "|extra                       |double                                                                                              |null   |\n",
      "|mta_tax                     |double                                                                                              |null   |\n",
      "|tip_amount                  |double                                                                                              |null   |\n",
      "|tolls_amount                |double                                                                                              |null   |\n",
      "|improvement_surcharge       |double                                                                                              |null   |\n",
      "|total_amount                |double                                                                                              |null   |\n",
      "|congestion_surcharge        |double                                                                                              |null   |\n",
      "|airport_fee                 |double                                                                                              |null   |\n",
      "|                            |                                                                                                    |       |\n",
      "|# Detailed Table Information|                                                                                                    |       |\n",
      "|Database                    |taxisdb                                                                                             |       |\n",
      "|Table                       |yellowtaxis                                                                                         |       |\n",
      "|Owner                       |mac                                                                                                 |       |\n",
      "|Created Time                |Tue May 02 12:17:13 EEST 2023                                                                       |       |\n",
      "|Last Access                 |UNKNOWN                                                                                             |       |\n",
      "|Created By                  |Spark 3.3.2                                                                                         |       |\n",
      "|Type                        |EXTERNAL                                                                                            |       |\n",
      "|Provider                    |parquet                                                                                             |       |\n",
      "|Location                    |file:/Users/mac/IdeaProjects/TestSpark3/3_SQL/spark-warehouse/files/output/YellowTaxisOutput.parquet|       |\n",
      "|Serde Library               |org.apache.hadoop.hive.ql.io.parquet.serde.ParquetHiveSerDe                                         |       |\n",
      "|InputFormat                 |org.apache.hadoop.hive.ql.io.parquet.MapredParquetInputFormat                                       |       |\n",
      "|OutputFormat                |org.apache.hadoop.hive.ql.io.parquet.MapredParquetOutputFormat                                      |       |\n",
      "+----------------------------+----------------------------------------------------------------------------------------------------+-------+\n",
      "\n"
     ]
    }
   ],
   "source": [
    "spark.sql(\"\"\"\n",
    "\n",
    "DESCRIBE TABLE EXTENDED TaxisDB.YellowTaxis\n",
    "\n",
    "\"\"\").show(50, truncate=False)"
   ]
  },
  {
   "cell_type": "markdown",
   "id": "a9b1ad95",
   "metadata": {},
   "source": [
    "### Drop External table and recreate using stored files"
   ]
  },
  {
   "cell_type": "code",
   "execution_count": 15,
   "id": "72fb09bb",
   "metadata": {
    "ExecuteTime": {
     "start_time": "2023-05-02T12:18:02.575391Z",
     "end_time": "2023-05-02T12:18:03.500145Z"
    }
   },
   "outputs": [
    {
     "data": {
      "text/plain": "DataFrame[]"
     },
     "execution_count": 15,
     "metadata": {},
     "output_type": "execute_result"
    }
   ],
   "source": [
    "spark.sql(\"\"\"\n",
    "\n",
    "DROP TABLE TaxisDB.YellowTaxis\n",
    "\n",
    "\"\"\")"
   ]
  },
  {
   "cell_type": "code",
   "execution_count": 16,
   "id": "2a7407b9",
   "metadata": {
    "ExecuteTime": {
     "start_time": "2023-05-02T12:18:24.157265Z",
     "end_time": "2023-05-02T12:18:24.400514Z"
    }
   },
   "outputs": [
    {
     "data": {
      "text/plain": "DataFrame[]"
     },
     "execution_count": 16,
     "metadata": {},
     "output_type": "execute_result"
    }
   ],
   "source": [
    "spark.sql(\"\"\"\n",
    "\n",
    "CREATE TABLE TaxisDB.YellowTaxis\n",
    "\n",
    "USING PARQUET\n",
    "\n",
    "LOCATION \"./../files/output/YellowTaxisOutput.parquet/\"\n",
    "\n",
    "\"\"\")"
   ]
  },
  {
   "cell_type": "code",
   "execution_count": 17,
   "id": "179a5aac",
   "metadata": {
    "ExecuteTime": {
     "start_time": "2023-05-02T12:18:33.208012Z",
     "end_time": "2023-05-02T12:18:33.403860Z"
    }
   },
   "outputs": [
    {
     "name": "stdout",
     "output_type": "stream",
     "text": [
      "+--------+--------------------+---------------------+---------------+-------------+----------+------------------+------------+------------+------------+-----------+-----+-------+----------+------------+---------------------+------------+--------------------+-----------+\n",
      "|VendorId|lpep_pickup_datetime|lpep_dropoff_datetime|passenger_count|trip_distance|RatecodeID|store_and_fwd_flag|PULocationID|DOLocationID|payment_type|fare_amount|extra|mta_tax|tip_amount|tolls_amount|improvement_surcharge|total_amount|congestion_surcharge|airport_fee|\n",
      "+--------+--------------------+---------------------+---------------+-------------+----------+------------------+------------+------------+------------+-----------+-----+-------+----------+------------+---------------------+------------+--------------------+-----------+\n",
      "+--------+--------------------+---------------------+---------------+-------------+----------+------------------+------------+------------+------------+-----------+-----+-------+----------+------------+---------------------+------------+--------------------+-----------+\n",
      "\n"
     ]
    }
   ],
   "source": [
    "yellowTaxiDF = (\n",
    "                  spark\n",
    "                    .read\n",
    "                    .table(\"TaxisDB.YellowTaxis\")\n",
    "    \n",
    "               )\n",
    "\n",
    "yellowTaxiDF.show()"
   ]
  },
  {
   "cell_type": "code",
   "execution_count": null,
   "id": "9e7d99ef",
   "metadata": {},
   "outputs": [],
   "source": []
  },
  {
   "cell_type": "code",
   "execution_count": null,
   "id": "9ff1239a",
   "metadata": {},
   "outputs": [],
   "source": []
  }
 ],
 "metadata": {
  "kernelspec": {
   "display_name": "Python 3 (ipykernel)",
   "language": "python",
   "name": "python3"
  },
  "language_info": {
   "codemirror_mode": {
    "name": "ipython",
    "version": 3
   },
   "file_extension": ".py",
   "mimetype": "text/x-python",
   "name": "python",
   "nbconvert_exporter": "python",
   "pygments_lexer": "ipython3",
   "version": "3.10.9"
  }
 },
 "nbformat": 4,
 "nbformat_minor": 5
}
