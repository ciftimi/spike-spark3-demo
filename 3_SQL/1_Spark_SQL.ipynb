{
 "cells": [
  {
   "cell_type": "code",
   "execution_count": null,
   "id": "1678309b",
   "metadata": {},
   "outputs": [],
   "source": [
    "import findspark\n",
    "findspark.init()\n",
    "findspark.find()"
   ]
  },
  {
   "cell_type": "code",
   "execution_count": 2,
   "id": "00e695e1",
   "metadata": {
    "ExecuteTime": {
     "start_time": "2023-05-02T12:06:39.960487Z",
     "end_time": "2023-05-02T12:06:46.907692Z"
    }
   },
   "outputs": [
    {
     "name": "stderr",
     "output_type": "stream",
     "text": [
      "Setting default log level to \"WARN\".\n",
      "To adjust logging level use sc.setLogLevel(newLevel). For SparkR, use setLogLevel(newLevel).\n",
      "23/05/02 12:06:43 WARN NativeCodeLoader: Unable to load native-hadoop library for your platform... using builtin-java classes where applicable\n",
      "23/05/02 12:06:44 WARN Utils: Service 'SparkUI' could not bind on port 4040. Attempting port 4041.\n",
      "23/05/02 12:06:44 WARN Utils: Service 'SparkUI' could not bind on port 4041. Attempting port 4042.\n",
      "23/05/02 12:06:44 WARN Utils: Service 'SparkUI' could not bind on port 4042. Attempting port 4043.\n"
     ]
    },
    {
     "data": {
      "text/plain": "<pyspark.sql.session.SparkSession at 0x10fe77130>",
      "text/html": "\n            <div>\n                <p><b>SparkSession - in-memory</b></p>\n                \n        <div>\n            <p><b>SparkContext</b></p>\n\n            <p><a href=\"http://192.168.0.118:4043\">Spark UI</a></p>\n\n            <dl>\n              <dt>Version</dt>\n                <dd><code>v3.4.0</code></dd>\n              <dt>Master</dt>\n                <dd><code>local[4]</code></dd>\n              <dt>AppName</dt>\n                <dd><code>SparkSQLApp</code></dd>\n            </dl>\n        </div>\n        \n            </div>\n        "
     },
     "execution_count": 2,
     "metadata": {},
     "output_type": "execute_result"
    }
   ],
   "source": [
    "from pyspark.sql import SparkSession\n",
    "from pyspark.sql.types import *\n",
    "from pyspark.sql.functions import *\n",
    "\n",
    "spark = (\n",
    "            SparkSession\n",
    "                .builder\n",
    "                .appName(\"SparkSQLApp\")\n",
    "                .master(\"local[4]\")\n",
    "    \n",
    "                .config(\"spark.dynamicAllocation.enabled\", \"false\")\n",
    "                .config(\"spark.sql.adaptive.enabled\", \"false\")\n",
    "    \n",
    "                .getOrCreate()\n",
    "        )\n",
    "\n",
    "sc = spark.sparkContext\n",
    "\n",
    "spark"
   ]
  },
  {
   "cell_type": "code",
   "execution_count": 3,
   "id": "28b1954d",
   "metadata": {
    "ExecuteTime": {
     "start_time": "2023-05-02T12:06:46.882833Z",
     "end_time": "2023-05-02T12:06:46.914457Z"
    }
   },
   "outputs": [
    {
     "data": {
      "text/plain": "<IPython.core.display.HTML object>",
      "text/html": "<style>pre { white-space: pre !important; }</style>"
     },
     "metadata": {},
     "output_type": "display_data"
    }
   ],
   "source": [
    "from IPython.display import *\n",
    "display(HTML(\"<style>pre { white-space: pre !important; }</style>\"))"
   ]
  },
  {
   "cell_type": "markdown",
   "id": "d70431db",
   "metadata": {},
   "source": [
    "### Read Yellow Taxis data"
   ]
  },
  {
   "cell_type": "code",
   "execution_count": 4,
   "id": "78c6ad3a",
   "metadata": {
    "ExecuteTime": {
     "start_time": "2023-05-02T12:06:58.905350Z",
     "end_time": "2023-05-02T12:06:58.918881Z"
    }
   },
   "outputs": [],
   "source": [
    "# Create schema for Yellow Taxi Data\n",
    "\n",
    "taxiSchema = (\n",
    "                    StructType\n",
    "                    ([ \n",
    "                        StructField(\"VendorId\"               , IntegerType()   , True),\n",
    "                        StructField(\"lpep_pickup_datetime\"   , TimestampType() , True),\n",
    "                        StructField(\"lpep_dropoff_datetime\"  , TimestampType() , True),                            \n",
    "                        StructField(\"passenger_count\"        , DoubleType()    , True),\n",
    "                        StructField(\"trip_distance\"          , DoubleType()    , True),\n",
    "                        StructField(\"RatecodeID\"             , DoubleType()    , True),                            \n",
    "                        StructField(\"store_and_fwd_flag\"     , StringType()    , True),\n",
    "                        StructField(\"PULocationID\"           , IntegerType()   , True),\n",
    "                        StructField(\"DOLocationID\"           , IntegerType()   , True),                            \n",
    "                        StructField(\"payment_type\"           , IntegerType()   , True),                            \n",
    "                        StructField(\"fare_amount\"            , DoubleType()    , True),\n",
    "                        StructField(\"extra\"                  , DoubleType()    , True),\n",
    "                        StructField(\"mta_tax\"                , DoubleType()    , True),\n",
    "                        StructField(\"tip_amount\"             , DoubleType()    , True),\n",
    "                        StructField(\"tolls_amount\"           , DoubleType()    , True),\n",
    "                        StructField(\"improvement_surcharge\"  , DoubleType()    , True),\n",
    "                        StructField(\"total_amount\"           , DoubleType()    , True),\n",
    "                        StructField(\"congestion_surcharge\"   , DoubleType()    , True),\n",
    "                        StructField(\"airport_fee\"            , DoubleType()    , True)\n",
    "                    ])\n",
    "               )"
   ]
  },
  {
   "cell_type": "code",
   "execution_count": 5,
   "id": "fb2a18ec",
   "metadata": {
    "ExecuteTime": {
     "start_time": "2023-05-02T12:07:00.822471Z",
     "end_time": "2023-05-02T12:07:03.348846Z"
    }
   },
   "outputs": [
    {
     "name": "stdout",
     "output_type": "stream",
     "text": [
      "root\n",
      " |-- VendorId: integer (nullable = true)\n",
      " |-- lpep_pickup_datetime: timestamp (nullable = true)\n",
      " |-- lpep_dropoff_datetime: timestamp (nullable = true)\n",
      " |-- passenger_count: double (nullable = true)\n",
      " |-- trip_distance: double (nullable = true)\n",
      " |-- RatecodeID: double (nullable = true)\n",
      " |-- store_and_fwd_flag: string (nullable = true)\n",
      " |-- PULocationID: integer (nullable = true)\n",
      " |-- DOLocationID: integer (nullable = true)\n",
      " |-- payment_type: integer (nullable = true)\n",
      " |-- fare_amount: double (nullable = true)\n",
      " |-- extra: double (nullable = true)\n",
      " |-- mta_tax: double (nullable = true)\n",
      " |-- tip_amount: double (nullable = true)\n",
      " |-- tolls_amount: double (nullable = true)\n",
      " |-- improvement_surcharge: double (nullable = true)\n",
      " |-- total_amount: double (nullable = true)\n",
      " |-- congestion_surcharge: double (nullable = true)\n",
      " |-- airport_fee: double (nullable = true)\n",
      "\n"
     ]
    }
   ],
   "source": [
    "# Read YellowTaxis CSV file\n",
    "\n",
    "yellowTaxiDF = (\n",
    "                  spark\n",
    "                    .read\n",
    "                    .option(\"header\", \"true\")\n",
    "    \n",
    "                    .schema(taxiSchema)\n",
    "    \n",
    "                    .csv(\"./../files/input/YellowTaxis_202210.csv\")\n",
    "               )\n",
    "\n",
    "yellowTaxiDF.printSchema()"
   ]
  },
  {
   "cell_type": "markdown",
   "id": "7f09f663",
   "metadata": {},
   "source": [
    "### Create a SQL View based on Python DataFrame"
   ]
  },
  {
   "cell_type": "code",
   "execution_count": 6,
   "id": "864793b7",
   "metadata": {
    "ExecuteTime": {
     "start_time": "2023-05-02T12:07:07.646567Z",
     "end_time": "2023-05-02T12:07:08.260756Z"
    }
   },
   "outputs": [],
   "source": [
    "yellowTaxiDF.createOrReplaceTempView(\"YellowTaxis\")"
   ]
  },
  {
   "cell_type": "markdown",
   "id": "90cf6067",
   "metadata": {},
   "source": [
    "### Run SQL query on View"
   ]
  },
  {
   "cell_type": "code",
   "execution_count": 7,
   "id": "37fb57a7",
   "metadata": {
    "ExecuteTime": {
     "start_time": "2023-05-02T12:07:10.797281Z",
     "end_time": "2023-05-02T12:07:25.102914Z"
    }
   },
   "outputs": [
    {
     "name": "stderr",
     "output_type": "stream",
     "text": [
      "23/05/02 12:07:13 WARN CSVHeaderChecker: CSV header does not conform to the schema.\n",
      " Header: VendorID, tpep_pickup_datetime, tpep_dropoff_datetime, passenger_count, trip_distance, RatecodeID, store_and_fwd_flag, PULocationID, DOLocationID, payment_type, fare_amount, extra, mta_tax, tip_amount, tolls_amount, improvement_surcharge, total_amount, congestion_surcharge, airport_fee\n",
      " Schema: VendorId, lpep_pickup_datetime, lpep_dropoff_datetime, passenger_count, trip_distance, RatecodeID, store_and_fwd_flag, PULocationID, DOLocationID, payment_type, fare_amount, extra, mta_tax, tip_amount, tolls_amount, improvement_surcharge, total_amount, congestion_surcharge, airport_fee\n",
      "Expected: lpep_pickup_datetime but found: tpep_pickup_datetime\n",
      "CSV file: file:///Users/mac/IdeaProjects/TestSpark3/files/input/YellowTaxis_202210.csv\n",
      "[Stage 1:>                                                          (0 + 1) / 1]\r"
     ]
    },
    {
     "name": "stdout",
     "output_type": "stream",
     "text": [
      "+--------+--------------------+---------------------+---------------+-------------+----------+------------------+------------+------------+------------+-----------+-----+-------+----------+------------+---------------------+------------+--------------------+-----------+\n",
      "|VendorId|lpep_pickup_datetime|lpep_dropoff_datetime|passenger_count|trip_distance|RatecodeID|store_and_fwd_flag|PULocationID|DOLocationID|payment_type|fare_amount|extra|mta_tax|tip_amount|tolls_amount|improvement_surcharge|total_amount|congestion_surcharge|airport_fee|\n",
      "+--------+--------------------+---------------------+---------------+-------------+----------+------------------+------------+------------+------------+-----------+-----+-------+----------+------------+---------------------+------------+--------------------+-----------+\n",
      "|       1| 2022-10-01 11:17:23|  2022-10-01 12:08:50|            1.0|          9.4|      99.0|                 N|         171|         263|           1|       35.2|  0.0|    0.5|       0.0|        6.55|                  0.3|       42.55|                 0.0|        0.0|\n",
      "|       1| 2022-10-02 07:28:04|  2022-10-02 07:28:26|            2.0|          3.2|       5.0|                 Y|         171|         171|           2|       75.0|  0.0|    0.0|       0.0|         0.0|                  0.3|        75.3|                 0.0|        0.0|\n",
      "|       1| 2022-10-02 11:48:08|  2022-10-02 12:09:53|            1.0|          0.0|      99.0|                 N|         171|         262|           1|       35.2|  0.0|    0.5|       0.0|        6.55|                  0.3|       42.55|                 0.0|        0.0|\n",
      "|       1| 2022-10-02 12:10:11|  2022-10-02 12:55:13|            1.0|         10.0|      99.0|                 N|         171|          80|           1|       36.2|  0.0|    0.5|       0.0|         0.0|                  0.3|        37.0|                 0.0|        0.0|\n",
      "|       1| 2022-10-02 19:03:21|  2022-10-02 19:23:20|            1.0|          7.7|      99.0|                 N|         171|         258|           1|       31.2|  0.0|    0.5|       0.0|         0.0|                  0.3|        32.0|                 0.0|        0.0|\n",
      "|       1| 2022-10-03 11:18:22|  2022-10-03 11:55:15|            1.0|         13.1|      99.0|                 N|         171|         216|           1|       37.2|  0.0|    0.5|       0.0|         0.0|                  0.3|        38.0|                 0.0|        0.0|\n",
      "|       1| 2022-10-03 12:40:35|  2022-10-03 12:40:36|            1.0|          0.0|       1.0|                 N|         171|         171|           1|       15.2|  0.0|    0.5|       0.0|         0.0|                  0.3|        16.0|                 0.0|        0.0|\n",
      "|       1| 2022-10-04 14:27:24|  2022-10-04 14:56:22|            1.0|          6.8|      99.0|                 N|         171|         205|           1|       42.2|  0.0|    0.5|       0.0|         0.0|                  0.3|        43.0|                 0.0|        0.0|\n",
      "|       1| 2022-10-06 12:39:40|  2022-10-06 12:51:14|            1.0|          0.0|       1.0|                 N|         171|          92|           1|       15.2|  0.0|    0.5|       0.0|         0.0|                  0.3|        16.0|                 0.0|        0.0|\n",
      "|       1| 2022-10-06 14:56:02|  2022-10-06 15:03:01|            1.0|          0.7|      99.0|                 N|         171|          92|           1|       15.2|  0.0|    0.5|       0.0|         0.0|                  0.3|        16.0|                 0.0|        0.0|\n",
      "|       2| 2022-10-06 14:44:02|  2022-10-06 14:44:09|            2.0|          0.0|       2.0|                 N|         171|         171|           1|       52.0|  0.0|    0.5|       5.0|         0.0|                  0.3|       59.05|                 0.0|       1.25|\n",
      "|       2| 2022-10-07 05:21:31|  2022-10-07 05:39:30|            5.0|          4.2|       1.0|                 N|         171|          28|           2|       16.5|  0.5|    0.5|       0.0|         0.0|                  0.3|        17.8|                 0.0|        0.0|\n",
      "|       2| 2022-10-08 07:17:20|  2022-10-08 07:17:30|            2.0|          0.0|       5.0|                 N|         171|         171|           1|       60.0|  0.0|    0.0|       0.0|         0.0|                  0.3|        60.3|                 0.0|        0.0|\n",
      "|       1| 2022-10-08 11:54:28|  2022-10-08 12:25:33|            1.0|          9.1|      99.0|                 N|         171|         262|           1|       35.2|  0.0|    0.5|       0.0|        6.55|                  0.3|       42.55|                 0.0|        0.0|\n",
      "|       2| 2022-10-08 14:25:13|  2022-10-08 15:02:01|            5.0|          6.3|       1.0|                 N|         171|           7|           2|       25.5|  0.0|    0.5|       0.0|         0.0|                  0.3|        26.3|                 0.0|        0.0|\n",
      "|       1| 2022-10-09 11:58:59|  2022-10-09 12:21:36|            1.0|          0.0|       1.0|                 N|         171|         263|           1|       35.2|  0.0|    0.5|       0.0|         0.0|                  0.3|        36.0|                 0.0|        0.0|\n",
      "|       2| 2022-10-09 21:10:51|  2022-10-09 21:11:04|            3.0|          0.0|       5.0|                 N|         171|         171|           1|       55.0|  0.0|    0.0|       0.0|         0.0|                  0.3|        55.3|                 0.0|        0.0|\n",
      "|       1| 2022-10-10 12:12:41|  2022-10-10 12:37:09|            1.0|         12.1|       1.0|                 N|         171|         263|           1|       34.0|  2.5|    0.5|     10.95|        6.55|                  0.3|        54.8|                 2.5|        0.0|\n",
      "|       1| 2022-10-10 13:14:54|  2022-10-10 13:59:54|            1.0|          0.0|       1.0|                 N|         171|         162|           1|       45.2|  0.0|    0.5|       0.0|        6.55|                  0.3|       52.55|                 0.0|        0.0|\n",
      "|       1| 2022-10-10 15:21:17|  2022-10-10 15:44:06|            1.0|          8.6|      99.0|                 N|         171|          74|           1|       33.2|  0.0|    0.5|       0.0|        6.55|                  0.3|       40.55|                 0.0|        0.0|\n",
      "+--------+--------------------+---------------------+---------------+-------------+----------+------------------+------------+------------+------------+-----------+-----+-------+----------+------------+---------------------+------------+--------------------+-----------+\n",
      "only showing top 20 rows\n",
      "\n"
     ]
    },
    {
     "name": "stderr",
     "output_type": "stream",
     "text": [
      "                                                                                \r"
     ]
    }
   ],
   "source": [
    "outputDF = spark.sql(\n",
    "                        \"SELECT * FROM YellowTaxis WHERE PULocationID = 171\"\n",
    "                    )\n",
    "    \n",
    "outputDF.show()"
   ]
  },
  {
   "cell_type": "markdown",
   "id": "d8d2be7c",
   "metadata": {},
   "source": [
    "### Read Green Taxis data, and create Temp View"
   ]
  },
  {
   "cell_type": "code",
   "execution_count": 8,
   "id": "38f7d64f",
   "metadata": {
    "ExecuteTime": {
     "start_time": "2023-05-02T12:07:50.690047Z",
     "end_time": "2023-05-02T12:07:51.214969Z"
    }
   },
   "outputs": [],
   "source": [
    "# Read GreenTaxis TSV file\n",
    "\n",
    "greenTaxiDF = (\n",
    "                  spark\n",
    "                    .read                     \n",
    "                    .option(\"header\", \"true\")    \n",
    "                    .option(\"delimiter\", \"\\t\")    \n",
    "                    .csv(\"./../files/input/GreenTaxis_202210.csv\")\n",
    "              )\n",
    "\n",
    "greenTaxiDF.createOrReplaceTempView(\"GreenTaxis\")"
   ]
  },
  {
   "cell_type": "markdown",
   "id": "2b4e71af",
   "metadata": {},
   "source": [
    "### Write SQL query to merge Yellow and Green Taxis data"
   ]
  },
  {
   "cell_type": "code",
   "execution_count": 9,
   "id": "938cdb10",
   "metadata": {
    "ExecuteTime": {
     "start_time": "2023-05-02T12:07:54.958744Z",
     "end_time": "2023-05-02T12:07:55.470567Z"
    }
   },
   "outputs": [
    {
     "name": "stdout",
     "output_type": "stream",
     "text": [
      "+--------+-------------------+-------------------+----------------+--------------+\n",
      "|TaxiType|         PickupTime|           DropTime|PickupLocationId|DropLocationId|\n",
      "+--------+-------------------+-------------------+----------------+--------------+\n",
      "|  Yellow|2022-10-01 03:03:41|2022-10-01 03:18:39|             249|           107|\n",
      "|  Yellow|2022-10-01 03:14:30|2022-10-01 03:19:48|             151|           238|\n",
      "|  Yellow|2022-10-01 03:27:13|2022-10-01 03:37:41|             238|           166|\n",
      "|  Yellow|2022-10-01 03:32:53|2022-10-01 03:38:55|             142|           239|\n",
      "|  Yellow|2022-10-01 03:44:55|2022-10-01 03:50:21|             238|           166|\n",
      "|  Yellow|2022-10-01 03:22:52|2022-10-01 03:52:14|             186|            41|\n",
      "|  Yellow|2022-10-01 03:33:19|2022-10-01 03:44:51|             162|           145|\n",
      "|  Yellow|2022-10-01 03:02:42|2022-10-01 03:50:01|             100|            22|\n",
      "|  Yellow|2022-10-01 03:06:35|2022-10-01 03:24:38|             138|           112|\n",
      "|  Yellow|2022-10-01 03:29:25|2022-10-01 03:43:15|             145|            75|\n",
      "|  Yellow|2022-10-01 03:01:55|2022-10-01 03:20:16|             138|           236|\n",
      "|  Yellow|2022-10-01 03:27:48|2022-10-01 03:59:50|             140|            36|\n",
      "|  Yellow|2022-10-01 03:05:27|2022-10-01 03:35:33|              70|           230|\n",
      "|  Yellow|2022-10-01 03:38:53|2022-10-01 03:48:13|             230|            68|\n",
      "|  Yellow|2022-10-01 03:24:40|2022-10-01 03:30:23|              79|           113|\n",
      "|  Yellow|2022-10-01 03:32:22|2022-10-01 03:58:55|             113|           116|\n",
      "|  Yellow|2022-10-01 03:17:08|2022-10-01 03:30:50|              13|           249|\n",
      "|  Yellow|2022-10-01 03:32:14|2022-10-01 03:44:35|             249|            79|\n",
      "|  Yellow|2022-10-01 03:09:24|2022-10-01 03:21:45|              48|           249|\n",
      "|  Yellow|2022-10-01 03:22:29|2022-10-01 03:33:53|             249|           224|\n",
      "+--------+-------------------+-------------------+----------------+--------------+\n",
      "only showing top 20 rows\n",
      "\n"
     ]
    },
    {
     "name": "stderr",
     "output_type": "stream",
     "text": [
      "23/05/02 12:07:55 WARN CSVHeaderChecker: CSV header does not conform to the schema.\n",
      " Header: tpep_pickup_datetime, tpep_dropoff_datetime, PULocationID, DOLocationID\n",
      " Schema: lpep_pickup_datetime, lpep_dropoff_datetime, PULocationID, DOLocationID\n",
      "Expected: lpep_pickup_datetime but found: tpep_pickup_datetime\n",
      "CSV file: file:///Users/mac/IdeaProjects/TestSpark3/files/input/YellowTaxis_202210.csv\n"
     ]
    }
   ],
   "source": [
    "spark.sql(\"\"\"\n",
    "\n",
    "SELECT 'Yellow'                   AS TaxiType\n",
    "\n",
    "      , lpep_pickup_datetime      AS PickupTime\n",
    "      , lpep_dropoff_datetime     AS DropTime\n",
    "      , PULocationID              AS PickupLocationId\n",
    "      , DOLocationID              AS DropLocationId      \n",
    "FROM YellowTaxis\n",
    "\n",
    "UNION ALL\n",
    "\n",
    "SELECT 'Green'                    AS TaxiType\n",
    "\n",
    "      , lpep_pickup_datetime      AS PickupTime\n",
    "      , lpep_dropoff_datetime     AS DropTime\n",
    "      , PULocationID              AS PickupLocationId\n",
    "      , DOLocationID              AS DropLocationId \n",
    "FROM GreenTaxis\n",
    "\n",
    "\"\"\").show()"
   ]
  },
  {
   "cell_type": "code",
   "execution_count": null,
   "id": "38ce3c00",
   "metadata": {},
   "outputs": [],
   "source": []
  }
 ],
 "metadata": {
  "kernelspec": {
   "display_name": "Python 3 (ipykernel)",
   "language": "python",
   "name": "python3"
  },
  "language_info": {
   "codemirror_mode": {
    "name": "ipython",
    "version": 3
   },
   "file_extension": ".py",
   "mimetype": "text/x-python",
   "name": "python",
   "nbconvert_exporter": "python",
   "pygments_lexer": "ipython3",
   "version": "3.10.9"
  }
 },
 "nbformat": 4,
 "nbformat_minor": 5
}
