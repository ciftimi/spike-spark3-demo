{
 "cells": [
  {
   "cell_type": "code",
   "execution_count": 27,
   "id": "7855fc58",
   "metadata": {
    "ExecuteTime": {
     "start_time": "2023-05-02T16:22:20.032415Z",
     "end_time": "2023-05-02T16:22:20.072918Z"
    }
   },
   "outputs": [
    {
     "data": {
      "text/plain": "'/usr/local/opt/apache-spark/libexec'"
     },
     "execution_count": 27,
     "metadata": {},
     "output_type": "execute_result"
    }
   ],
   "source": [
    "import findspark\n",
    "findspark.init()\n",
    "findspark.find()"
   ]
  },
  {
   "cell_type": "code",
   "execution_count": 28,
   "id": "76c5c1ac",
   "metadata": {
    "ExecuteTime": {
     "start_time": "2023-05-02T16:22:21.826599Z",
     "end_time": "2023-05-02T16:22:22.035863Z"
    }
   },
   "outputs": [
    {
     "data": {
      "text/plain": "<pyspark.sql.session.SparkSession at 0x105e37ee0>",
      "text/html": "\n            <div>\n                <p><b>SparkSession - in-memory</b></p>\n                \n        <div>\n            <p><b>SparkContext</b></p>\n\n            <p><a href=\"http://192.168.0.118:4040\">Spark UI</a></p>\n\n            <dl>\n              <dt>Version</dt>\n                <dd><code>v3.3.2</code></dd>\n              <dt>Master</dt>\n                <dd><code>local[4]</code></dd>\n              <dt>AppName</dt>\n                <dd><code>TaxiOperationsDataFrameApp</code></dd>\n            </dl>\n        </div>\n        \n            </div>\n        "
     },
     "execution_count": 28,
     "metadata": {},
     "output_type": "execute_result"
    }
   ],
   "source": [
    "from pyspark.sql import SparkSession\n",
    "from pyspark.sql.types import *\n",
    "from pyspark.sql.functions import *\n",
    "\n",
    "spark = (\n",
    "            SparkSession\n",
    "                .builder\n",
    "    \n",
    "                .appName(\"TaxiOperationsDataFrameApp\")\n",
    "                .master(\"local[4]\")\n",
    "    \n",
    "                .config(\"spark.dynamicAllocation.enabled\", \"false\")\n",
    "                .config(\"spark.sql.adaptive.enabled\", \"false\")    \n",
    "                .getOrCreate()\n",
    "        )\n",
    "\n",
    "sc = spark.sparkContext\n",
    "\n",
    "spark"
   ]
  },
  {
   "cell_type": "code",
   "execution_count": 29,
   "id": "dc54c228",
   "metadata": {
    "ExecuteTime": {
     "start_time": "2023-05-02T16:22:26.192343Z",
     "end_time": "2023-05-02T16:22:26.245160Z"
    }
   },
   "outputs": [
    {
     "data": {
      "text/plain": "<IPython.core.display.HTML object>",
      "text/html": "<style>pre { white-space: pre !important; }</style>"
     },
     "metadata": {},
     "output_type": "display_data"
    }
   ],
   "source": [
    "from IPython.display import *\n",
    "display(HTML(\"<style>pre { white-space: pre !important; }</style>\"))"
   ]
  },
  {
   "cell_type": "markdown",
   "id": "92baa3c9",
   "metadata": {},
   "source": [
    "### Create DataFrame - Option 1.a: From RDD"
   ]
  },
  {
   "cell_type": "code",
   "execution_count": 30,
   "id": "38ed35ee",
   "metadata": {
    "ExecuteTime": {
     "start_time": "2023-05-02T16:22:41.714569Z",
     "end_time": "2023-05-02T16:22:41.771672Z"
    }
   },
   "outputs": [],
   "source": [
    "# Create RDD\n",
    "\n",
    "data = [\n",
    "            [ 1, \"Neha\",  10000 ],\n",
    "            [ 2, \"Steve\", 20000 ],\n",
    "            [ 3, \"Kari\",  30000 ],\n",
    "            [ 4, \"Ivan\",  40000 ],\n",
    "            [ 5, \"Mohit\", 50000 ]\n",
    "       ]\n",
    "\n",
    "employeesRdd = sc.parallelize(data)"
   ]
  },
  {
   "cell_type": "code",
   "execution_count": 31,
   "id": "c0b0513b",
   "metadata": {
    "ExecuteTime": {
     "start_time": "2023-05-02T16:22:50.038816Z",
     "end_time": "2023-05-02T16:22:51.107355Z"
    }
   },
   "outputs": [
    {
     "name": "stdout",
     "output_type": "stream",
     "text": [
      "+---+-----+-----+\n",
      "| _1|   _2|   _3|\n",
      "+---+-----+-----+\n",
      "|  1| Neha|10000|\n",
      "|  2|Steve|20000|\n",
      "|  3| Kari|30000|\n",
      "|  4| Ivan|40000|\n",
      "|  5|Mohit|50000|\n",
      "+---+-----+-----+\n",
      "\n"
     ]
    }
   ],
   "source": [
    "# Create DataFrame and show content\n",
    "\n",
    "employeesDF = employeesRdd.toDF()\n",
    "\n",
    "employeesDF.show()"
   ]
  },
  {
   "cell_type": "code",
   "execution_count": 32,
   "id": "eb256ca3",
   "metadata": {
    "ExecuteTime": {
     "start_time": "2023-05-02T16:23:12.888484Z",
     "end_time": "2023-05-02T16:23:13.060759Z"
    }
   },
   "outputs": [
    {
     "name": "stdout",
     "output_type": "stream",
     "text": [
      "+---+-----+------+\n",
      "| Id| Name|Salary|\n",
      "+---+-----+------+\n",
      "|  1| Neha| 10000|\n",
      "|  2|Steve| 20000|\n",
      "|  3| Kari| 30000|\n",
      "|  4| Ivan| 40000|\n",
      "|  5|Mohit| 50000|\n",
      "+---+-----+------+\n",
      "\n"
     ]
    }
   ],
   "source": [
    "# Define column names for DataFrame\n",
    "\n",
    "employeesDF = employeesDF.toDF(\"Id\", \"Name\", \"Salary\")\n",
    "\n",
    "employeesDF.show()"
   ]
  },
  {
   "cell_type": "code",
   "execution_count": 33,
   "id": "01b2b9a7",
   "metadata": {
    "ExecuteTime": {
     "start_time": "2023-05-02T16:23:19.467197Z",
     "end_time": "2023-05-02T16:23:19.482697Z"
    }
   },
   "outputs": [
    {
     "name": "stdout",
     "output_type": "stream",
     "text": [
      "root\n",
      " |-- Id: long (nullable = true)\n",
      " |-- Name: string (nullable = true)\n",
      " |-- Salary: long (nullable = true)\n",
      "\n"
     ]
    }
   ],
   "source": [
    "# Print DataFrame schema\n",
    "\n",
    "employeesDF.printSchema()"
   ]
  },
  {
   "cell_type": "markdown",
   "id": "d5e8bb0c",
   "metadata": {},
   "source": [
    "### Create DataFrame - Option 1.b: From data collection"
   ]
  },
  {
   "cell_type": "code",
   "execution_count": 34,
   "id": "719e3e0d",
   "metadata": {
    "ExecuteTime": {
     "start_time": "2023-05-02T16:24:12.751865Z",
     "end_time": "2023-05-02T16:24:13.070269Z"
    }
   },
   "outputs": [
    {
     "name": "stdout",
     "output_type": "stream",
     "text": [
      "+---+-----+------+\n",
      "| Id| Name|Salary|\n",
      "+---+-----+------+\n",
      "|  1| Neha| 10000|\n",
      "|  2|Steve| 20000|\n",
      "|  3| Kari| 30000|\n",
      "|  4| Ivan| 40000|\n",
      "|  5|Mohit| 50000|\n",
      "+---+-----+------+\n",
      "\n"
     ]
    }
   ],
   "source": [
    "# Create DataFrame from collection\n",
    "\n",
    "employeesDF = (\n",
    "                    spark\n",
    "                        .createDataFrame\n",
    "                        (\n",
    "                            data,                           # Pass RDD or collection\n",
    "                            \"Id: long, Name: string, Salary: long\"  \n",
    "                            \n",
    "                                    # Pass schema as array [\"Id\", \"Name\", \"Salary\"]\n",
    "                        )\n",
    "               )\n",
    "\n",
    "employeesDF.show()"
   ]
  },
  {
   "cell_type": "markdown",
   "id": "301f64e7",
   "metadata": {},
   "source": [
    "### Create DataFrame - Option 2: Read a File"
   ]
  },
  {
   "cell_type": "code",
   "execution_count": 35,
   "id": "7cf382df",
   "metadata": {
    "ExecuteTime": {
     "start_time": "2023-05-02T16:24:37.448858Z",
     "end_time": "2023-05-02T16:24:37.920515Z"
    }
   },
   "outputs": [],
   "source": [
    "# Read YellowTaxis csv file to create DataFrame\n",
    "\n",
    "yellowTaxiDF = (\n",
    "                  spark    \n",
    "                    .read    \n",
    "                    .csv(\"./../files/input/YellowTaxis_202210.csv\")\n",
    "               )"
   ]
  },
  {
   "cell_type": "code",
   "execution_count": 36,
   "id": "26174bbe",
   "metadata": {
    "ExecuteTime": {
     "start_time": "2023-05-02T16:24:40.186088Z",
     "end_time": "2023-05-02T16:24:40.611856Z"
    }
   },
   "outputs": [
    {
     "name": "stdout",
     "output_type": "stream",
     "text": [
      "+--------+--------------------+--------------------+---------------+-------------+----------+------------------+------------+------------+------------+-----------+-----+-------+----------+------------+--------------------+------------+--------------------+-----------+\n",
      "|     _c0|                 _c1|                 _c2|            _c3|          _c4|       _c5|               _c6|         _c7|         _c8|         _c9|       _c10| _c11|   _c12|      _c13|        _c14|                _c15|        _c16|                _c17|       _c18|\n",
      "+--------+--------------------+--------------------+---------------+-------------+----------+------------------+------------+------------+------------+-----------+-----+-------+----------+------------+--------------------+------------+--------------------+-----------+\n",
      "|VendorID|tpep_pickup_datetime|tpep_dropoff_date...|passenger_count|trip_distance|RatecodeID|store_and_fwd_flag|PULocationID|DOLocationID|payment_type|fare_amount|extra|mta_tax|tip_amount|tolls_amount|improvement_surch...|total_amount|congestion_surcharge|airport_fee|\n",
      "|       1|2022-10-01T05:33:...|2022-10-01T05:48:...|            1.0|          1.7|       1.0|                 N|         249|         107|           1|        9.5|  3.0|    0.5|      2.65|         0.0|                 0.3|       15.95|                 2.5|        0.0|\n",
      "|       2|2022-10-01T05:44:...|2022-10-01T05:49:...|            2.0|         0.72|       1.0|                 N|         151|         238|           2|        5.5|  0.5|    0.5|       0.0|         0.0|                 0.3|         9.3|                 2.5|        0.0|\n",
      "|       2|2022-10-01T05:57:...|2022-10-01T06:07:...|            1.0|         1.74|       1.0|                 N|         238|         166|           1|        9.0|  0.5|    0.5|      2.06|         0.0|                 0.3|       12.36|                 0.0|        0.0|\n",
      "|       1|2022-10-01T06:02:...|2022-10-01T06:08:...|            0.0|          1.3|       1.0|                 N|         142|         239|           1|        6.5|  3.0|    0.5|      2.05|         0.0|                 0.3|       12.35|                 2.5|        0.0|\n",
      "|       1|2022-10-01T06:14:...|2022-10-01T06:20:...|            0.0|          1.0|       1.0|                 N|         238|         166|           1|        6.0|  0.5|    0.5|       1.8|         0.0|                 0.3|         9.1|                 0.0|        0.0|\n",
      "|       1|2022-10-01T05:52:...|2022-10-01T06:22:...|            1.0|          6.8|       1.0|                 Y|         186|          41|           2|       25.5|  3.0|    0.5|       0.0|         0.0|                 0.3|        29.3|                 2.5|        0.0|\n",
      "|       2|2022-10-01T06:03:...|2022-10-01T06:14:...|            3.0|         1.88|       1.0|                 N|         162|         145|           2|       10.5|  0.5|    0.5|       0.0|         0.0|                 0.3|        14.3|                 2.5|        0.0|\n",
      "|       1|2022-10-01T05:32:...|2022-10-01T06:20:...|            1.0|         12.2|       1.0|                 N|         100|          22|           1|       41.0|  3.0|    0.5|       3.0|         0.0|                 0.3|        47.8|                 2.5|        0.0|\n",
      "|       2|2022-10-01T05:36:...|2022-10-01T05:54:...|            1.0|         7.79|       1.0|                 N|         138|         112|           1|       23.5|  0.5|    0.5|      4.96|         0.0|                 0.3|       31.01|                 0.0|       1.25|\n",
      "|       2|2022-10-01T05:59:...|2022-10-01T06:13:...|            1.0|         4.72|       1.0|                 N|         145|          75|           1|       14.5|  0.5|    0.5|       1.5|         0.0|                 0.3|        19.8|                 2.5|        0.0|\n",
      "|       1|2022-10-01T05:31:...|2022-10-01T05:50:...|            1.0|          8.8|       1.0|                 N|         138|         236|           1|       26.0| 4.25|    0.5|      5.64|        6.55|                 0.3|       43.24|                 2.5|       1.25|\n",
      "|       1|2022-10-01T05:57:...|2022-10-01T06:29:...|            1.0|          8.6|       1.0|                 N|         140|          36|           1|       29.5|  3.0|    0.5|       6.0|         0.0|                 0.3|        39.3|                 2.5|        0.0|\n",
      "|       1|2022-10-01T05:35:...|2022-10-01T06:05:...|            4.0|         12.0|       1.0|                 N|          70|         230|           2|       36.5|  3.0|    0.5|       0.0|        6.55|                 0.3|       46.85|                 2.5|        0.0|\n",
      "|       1|2022-10-01T06:08:...|2022-10-01T06:18:...|            2.0|          1.4|       1.0|                 N|         230|          68|           1|        8.5|  3.0|    0.5|      3.05|         0.0|                 0.3|       15.35|                 2.5|        0.0|\n",
      "|       2|2022-10-01T05:54:...|2022-10-01T06:00:...|            1.0|         0.76|       1.0|                 N|          79|         113|           1|        5.5|  0.5|    0.5|      0.93|         0.0|                 0.3|       10.23|                 2.5|        0.0|\n",
      "|       2|2022-10-01T06:02:...|2022-10-01T06:28:...|            1.0|          7.8|       1.0|                 N|         113|         116|           1|       26.5|  0.5|    0.5|      6.06|         0.0|                 0.3|       36.36|                 2.5|        0.0|\n",
      "|       2|2022-10-01T05:47:...|2022-10-01T06:00:...|            2.0|          2.9|       1.0|                 N|          13|         249|           1|       12.0|  0.5|    0.5|       2.8|         0.0|                 0.3|        18.6|                 2.5|        0.0|\n",
      "|       2|2022-10-01T06:02:...|2022-10-01T06:14:...|            1.0|         1.71|       1.0|                 N|         249|          79|           1|        9.0|  0.5|    0.5|      2.56|         0.0|                 0.3|       15.36|                 2.5|        0.0|\n",
      "|       2|2022-10-01T05:39:...|2022-10-01T05:51:...|            1.0|          2.3|       1.0|                 N|          48|         249|           1|       10.0|  0.5|    0.5|      2.76|         0.0|                 0.3|       16.56|                 2.5|        0.0|\n",
      "+--------+--------------------+--------------------+---------------+-------------+----------+------------------+------------+------------+------------+-----------+-----+-------+----------+------------+--------------------+------------+--------------------+-----------+\n",
      "only showing top 20 rows\n",
      "\n"
     ]
    }
   ],
   "source": [
    "# Display DataFrame content\n",
    "\n",
    "yellowTaxiDF.show()"
   ]
  },
  {
   "cell_type": "code",
   "execution_count": 37,
   "id": "0c37bef1",
   "metadata": {
    "ExecuteTime": {
     "start_time": "2023-05-02T16:25:01.124058Z",
     "end_time": "2023-05-02T16:25:01.539889Z"
    }
   },
   "outputs": [
    {
     "name": "stdout",
     "output_type": "stream",
     "text": [
      "root\n",
      " |-- VendorID: string (nullable = true)\n",
      " |-- tpep_pickup_datetime: string (nullable = true)\n",
      " |-- tpep_dropoff_datetime: string (nullable = true)\n",
      " |-- passenger_count: string (nullable = true)\n",
      " |-- trip_distance: string (nullable = true)\n",
      " |-- RatecodeID: string (nullable = true)\n",
      " |-- store_and_fwd_flag: string (nullable = true)\n",
      " |-- PULocationID: string (nullable = true)\n",
      " |-- DOLocationID: string (nullable = true)\n",
      " |-- payment_type: string (nullable = true)\n",
      " |-- fare_amount: string (nullable = true)\n",
      " |-- extra: string (nullable = true)\n",
      " |-- mta_tax: string (nullable = true)\n",
      " |-- tip_amount: string (nullable = true)\n",
      " |-- tolls_amount: string (nullable = true)\n",
      " |-- improvement_surcharge: string (nullable = true)\n",
      " |-- total_amount: string (nullable = true)\n",
      " |-- congestion_surcharge: string (nullable = true)\n",
      " |-- airport_fee: string (nullable = true)\n",
      "\n"
     ]
    }
   ],
   "source": [
    "# Take column names from file header row\n",
    "\n",
    "yellowTaxiDF = (\n",
    "                  spark\n",
    "                    .read\n",
    "    \n",
    "                    .option(\"header\", \"true\")\n",
    "    \n",
    "                    .csv(\"./../files/input/YellowTaxis_202210.csv\")\n",
    "               )\n",
    "\n",
    "yellowTaxiDF.printSchema()"
   ]
  },
  {
   "cell_type": "code",
   "execution_count": 12,
   "id": "b0d3aeb6",
   "metadata": {
    "ExecuteTime": {
     "start_time": "2023-05-02T14:10:28.884624Z",
     "end_time": "2023-05-02T14:10:29.335937Z"
    }
   },
   "outputs": [
    {
     "name": "stdout",
     "output_type": "stream",
     "text": [
      "+--------+--------------------+---------------------+---------------+-------------+----------+------------------+------------+------------+------------+-----------+-----+-------+----------+------------+---------------------+------------+--------------------+-----------+\n",
      "|VendorId|lpep_pickup_datetime|lpep_dropoff_datetime|passenger_count|trip_distance|RatecodeID|store_and_fwd_flag|PULocationID|DOLocationID|payment_type|fare_amount|extra|mta_tax|tip_amount|tolls_amount|improvement_surcharge|total_amount|congestion_surcharge|airport_fee|\n",
      "+--------+--------------------+---------------------+---------------+-------------+----------+------------------+------------+------------+------------+-----------+-----+-------+----------+------------+---------------------+------------+--------------------+-----------+\n",
      "|       2|2022-10-01T06:08:...| 2022-10-01T06:21:...|            1.0|         2.47|       1.0|                 N|         256|         225|         1.0|       11.5|  0.5|    0.5|      2.56|         0.0|                  0.3|       15.36|                 0.0|        0.0|\n",
      "|       2|2022-10-01T06:36:...| 2022-10-01T06:42:...|            1.0|         1.96|       1.0|                 N|         166|         152|         1.0|        7.5|  0.5|    0.5|       2.2|         0.0|                  0.3|        11.0|                 0.0|        0.0|\n",
      "|       2|2022-10-01T06:01:...| 2022-10-01T06:15:...|            1.0|         2.43|       1.0|                 N|          74|         262|         1.0|       11.5|  0.5|    0.5|       2.0|         0.0|                  0.3|       17.55|                2.75|        0.0|\n",
      "|       2|2022-10-01T06:21:...| 2022-10-01T06:28:...|            1.0|         2.25|       1.0|                 N|          74|          42|         1.0|        8.5|  0.5|    0.5|      1.96|         0.0|                  0.3|       11.76|                 0.0|        0.0|\n",
      "|       1|2022-10-01T06:12:...| 2022-10-01T06:24:...|            1.0|          0.0|       1.0|                 N|          74|         247|         1.0|       17.2|  0.0|    0.5|       0.0|         0.0|                  0.3|        18.0|                 0.0|        0.0|\n",
      "|       2|2022-10-01T05:55:...| 2022-10-01T06:05:...|            2.0|          4.5|       1.0|                 N|         134|          57|         2.0|       14.0|  0.5|    0.5|       0.0|         0.0|                  0.3|        15.3|                 0.0|        0.0|\n",
      "|       2|2022-10-01T05:48:...| 2022-10-01T06:00:...|            1.0|         1.65|       1.0|                 N|          83|           7|         1.0|        9.5|  0.5|    0.5|      1.62|         0.0|                  0.3|       12.42|                 0.0|        0.0|\n",
      "|       2|2022-10-01T06:06:...| 2022-10-01T06:22:...|            1.0|          3.0|       1.0|                 N|          33|         125|         1.0|       13.5|  0.5|    0.5|      3.51|         0.0|                  0.3|       21.06|                2.75|        0.0|\n",
      "|       2|2022-10-01T05:40:...| 2022-10-01T05:58:...|            1.0|         3.92|       5.0|                 N|          95|         216|         2.0|       25.0|  0.0|    0.0|       0.0|         0.0|                  0.3|        25.3|                 0.0|        0.0|\n",
      "|       2|2022-10-01T05:52:...| 2022-10-01T06:07:...|            1.0|         2.94|       5.0|                 N|         130|         216|         2.0|       20.0|  0.0|    0.0|       0.0|         0.0|                  0.3|        20.3|                 0.0|        0.0|\n",
      "|       2|2022-10-01T06:05:...| 2022-10-01T06:21:...|            2.0|         6.48|       1.0|                 N|         116|          68|         1.0|       20.5|  0.5|    0.5|      4.91|         0.0|                  0.3|       29.46|                2.75|        0.0|\n",
      "|       2|2022-10-01T05:48:...| 2022-10-01T05:53:...|            1.0|         0.74|       1.0|                 N|         166|          41|         1.0|        5.0|  0.5|    0.5|      1.89|         0.0|                  0.3|        8.19|                 0.0|        0.0|\n",
      "|       2|2022-10-01T06:08:...| 2022-10-01T06:14:...|            1.0|         1.02|       1.0|                 N|          42|          42|         2.0|        6.0|  0.5|    0.5|       0.0|         0.0|                  0.3|         7.3|                 0.0|        0.0|\n",
      "|       2|2022-10-01T05:36:...| 2022-10-01T05:41:...|            3.0|         0.64|       1.0|                 N|         255|         255|         1.0|        5.0|  0.5|    0.5|      1.26|         0.0|                  0.3|       10.06|                 0.0|        0.0|\n",
      "|       2|2022-10-01T06:11:...| 2022-10-01T06:12:...|            1.0|          0.0|       1.0|                 N|         260|         260|         2.0|        2.5|  0.5|    0.5|       0.0|         0.0|                  0.3|         3.8|                 0.0|        0.0|\n",
      "|       2|2022-10-01T06:21:...| 2022-10-01T06:33:...|            1.0|         1.06|       1.0|                 N|         260|         260|         1.0|        9.5|  0.5|    0.5|      10.0|         0.0|                  0.3|        20.8|                 0.0|        0.0|\n",
      "|       2|2022-10-01T05:36:...| 2022-10-01T05:45:...|            1.0|         1.69|       1.0|                 N|           7|         223|         1.0|        7.5|  0.5|    0.5|      1.76|         0.0|                  0.3|       10.56|                 0.0|        0.0|\n",
      "|       2|2022-10-01T06:31:...| 2022-10-01T06:52:...|            1.0|         6.03|       1.0|                 N|          75|         235|         1.0|       19.5|  0.5|    0.5|       6.0|         0.0|                  0.3|        26.8|                 0.0|        0.0|\n",
      "|       2|2022-10-01T06:09:...| 2022-10-01T06:23:...|            1.0|         3.61|       1.0|                 N|          74|          69|         1.0|       13.5|  0.5|    0.5|      2.96|         0.0|                  0.3|       17.76|                 0.0|        0.0|\n",
      "|       2|2022-10-01T05:57:...| 2022-10-01T06:07:...|            1.0|         2.74|       1.0|                 N|          75|          42|         1.0|       10.5|  0.5|    0.5|       0.0|         0.0|                  0.3|        11.8|                 0.0|        0.0|\n",
      "+--------+--------------------+---------------------+---------------+-------------+----------+------------------+------------+------------+------------+-----------+-----+-------+----------+------------+---------------------+------------+--------------------+-----------+\n",
      "only showing top 20 rows\n",
      "\n"
     ]
    }
   ],
   "source": [
    "# Use tab delimiter to read GreenTaxis file\n",
    "\n",
    "greenTaxiDF = (\n",
    "                  spark\n",
    "                    .read                     \n",
    "                    .option(\"header\", \"true\")\n",
    "    \n",
    "                    .option(\"delimiter\", \"\\t\")\n",
    "    \n",
    "                    .csv(\"./../files/input/GreenTaxis_*.csv\")\n",
    "              )\n",
    "\n",
    "greenTaxiDF.show()"
   ]
  },
  {
   "cell_type": "markdown",
   "id": "a836370e",
   "metadata": {},
   "source": [
    "### Read JSON File"
   ]
  },
  {
   "cell_type": "code",
   "execution_count": 38,
   "id": "d6ba7a49",
   "metadata": {
    "ExecuteTime": {
     "start_time": "2023-05-02T16:25:38.663768Z",
     "end_time": "2023-05-02T16:25:38.940881Z"
    }
   },
   "outputs": [
    {
     "name": "stdout",
     "output_type": "stream",
     "text": [
      "+-----------+-------------+\n",
      "|PaymentType|PaymentTypeID|\n",
      "+-----------+-------------+\n",
      "|Credit Card|            1|\n",
      "|       Cash|            2|\n",
      "|  No Charge|            3|\n",
      "|    Dispute|            4|\n",
      "|    Unknown|            5|\n",
      "|Voided Trip|            6|\n",
      "+-----------+-------------+\n",
      "\n"
     ]
    }
   ],
   "source": [
    "# Read PaymentTypes JSON file\n",
    "\n",
    "paymentTypesDF = (\n",
    "                      spark\n",
    "                        .read\n",
    "                        .json(\"./../files/input/PaymentTypes.json\")\n",
    "                 )\n",
    "\n",
    "#paymentTypesDF = (\n",
    "#                     spark\n",
    "#                       .read\n",
    "\n",
    "#                       .format(\"json\")\n",
    "#                       .load(\"C:\\SparkCourse\\DataFiles\\Raw\\PaymentTypes.json\")\n",
    "#                 )\n",
    "\n",
    "paymentTypesDF.show()"
   ]
  },
  {
   "cell_type": "markdown",
   "id": "923d5bc1",
   "metadata": {},
   "source": [
    "### Schema Option 1 - No schema inference or definition\n",
    "\n",
    "<i>Check for jobs"
   ]
  },
  {
   "cell_type": "code",
   "execution_count": 14,
   "id": "e37b6067",
   "metadata": {
    "ExecuteTime": {
     "start_time": "2023-05-02T14:10:36.692841Z",
     "end_time": "2023-05-02T14:10:36.858716Z"
    }
   },
   "outputs": [
    {
     "name": "stdout",
     "output_type": "stream",
     "text": [
      "root\n",
      " |-- VendorID: string (nullable = true)\n",
      " |-- tpep_pickup_datetime: string (nullable = true)\n",
      " |-- tpep_dropoff_datetime: string (nullable = true)\n",
      " |-- passenger_count: string (nullable = true)\n",
      " |-- trip_distance: string (nullable = true)\n",
      " |-- RatecodeID: string (nullable = true)\n",
      " |-- store_and_fwd_flag: string (nullable = true)\n",
      " |-- PULocationID: string (nullable = true)\n",
      " |-- DOLocationID: string (nullable = true)\n",
      " |-- payment_type: string (nullable = true)\n",
      " |-- fare_amount: string (nullable = true)\n",
      " |-- extra: string (nullable = true)\n",
      " |-- mta_tax: string (nullable = true)\n",
      " |-- tip_amount: string (nullable = true)\n",
      " |-- tolls_amount: string (nullable = true)\n",
      " |-- improvement_surcharge: string (nullable = true)\n",
      " |-- total_amount: string (nullable = true)\n",
      " |-- congestion_surcharge: string (nullable = true)\n",
      " |-- airport_fee: string (nullable = true)\n",
      "\n"
     ]
    }
   ],
   "source": [
    "# Read YellowTaxis csv file to create DataFrame\n",
    "\n",
    "yellowTaxiDF = (\n",
    "                  spark\n",
    "                    .read    \n",
    "                    .option(\"header\", \"true\")    \n",
    "                    .csv(\"./../files/input/YellowTaxis_202210.csv\")\n",
    "               )\n",
    "\n",
    "yellowTaxiDF.printSchema()"
   ]
  },
  {
   "cell_type": "markdown",
   "id": "f648bca4",
   "metadata": {},
   "source": [
    "### Schema Option 2 - Infer schema\n",
    "\n",
    "<i>Check for jobs"
   ]
  },
  {
   "cell_type": "code",
   "execution_count": 15,
   "id": "882bd119",
   "metadata": {
    "ExecuteTime": {
     "start_time": "2023-05-02T14:10:40.076928Z",
     "end_time": "2023-05-02T14:10:49.065023Z"
    }
   },
   "outputs": [
    {
     "name": "stderr",
     "output_type": "stream",
     "text": [
      "[Stage 16:>                                                         (0 + 4) / 4]\r"
     ]
    },
    {
     "name": "stdout",
     "output_type": "stream",
     "text": [
      "root\n",
      " |-- VendorID: integer (nullable = true)\n",
      " |-- tpep_pickup_datetime: timestamp (nullable = true)\n",
      " |-- tpep_dropoff_datetime: timestamp (nullable = true)\n",
      " |-- passenger_count: double (nullable = true)\n",
      " |-- trip_distance: double (nullable = true)\n",
      " |-- RatecodeID: double (nullable = true)\n",
      " |-- store_and_fwd_flag: string (nullable = true)\n",
      " |-- PULocationID: integer (nullable = true)\n",
      " |-- DOLocationID: integer (nullable = true)\n",
      " |-- payment_type: integer (nullable = true)\n",
      " |-- fare_amount: double (nullable = true)\n",
      " |-- extra: double (nullable = true)\n",
      " |-- mta_tax: double (nullable = true)\n",
      " |-- tip_amount: double (nullable = true)\n",
      " |-- tolls_amount: double (nullable = true)\n",
      " |-- improvement_surcharge: double (nullable = true)\n",
      " |-- total_amount: double (nullable = true)\n",
      " |-- congestion_surcharge: double (nullable = true)\n",
      " |-- airport_fee: double (nullable = true)\n",
      "\n"
     ]
    },
    {
     "name": "stderr",
     "output_type": "stream",
     "text": [
      "                                                                                \r"
     ]
    }
   ],
   "source": [
    "# Read YellowTaxis csv file, and create DataFrame by inferring the schema\n",
    "\n",
    "yellowTaxiDF = (\n",
    "                  spark\n",
    "                    .read\n",
    "                    .option(\"header\", \"true\")\n",
    "    \n",
    "                    .option(\"inferSchema\", \"true\")\n",
    "    \n",
    "                    .csv(\"./../files/input/YellowTaxis_202210.csv\")\n",
    "               )\n",
    "\n",
    "yellowTaxiDF.printSchema()"
   ]
  },
  {
   "cell_type": "markdown",
   "id": "1a087768",
   "metadata": {},
   "source": [
    "### Schema Option 3 - Define schema & apply\n",
    "\n",
    "<i>Check for jobs"
   ]
  },
  {
   "cell_type": "code",
   "execution_count": 16,
   "id": "b16794b7",
   "metadata": {
    "ExecuteTime": {
     "start_time": "2023-05-02T14:10:49.066070Z",
     "end_time": "2023-05-02T14:10:49.074021Z"
    }
   },
   "outputs": [],
   "source": [
    "# Create schema for Yellow Taxi Data\n",
    "\n",
    "yellowTaxiSchema = (\n",
    "                        StructType\n",
    "                        ([ \n",
    "                            StructField(\"VendorId\"               , IntegerType()   , True),\n",
    "                            StructField(\"lpep_pickup_datetime\"   , TimestampType() , True),\n",
    "                            StructField(\"lpep_dropoff_datetime\"  , TimestampType() , True),\n",
    "                            StructField(\"passenger_count\"        , DoubleType()    , True),\n",
    "                            StructField(\"trip_distance\"          , DoubleType()    , True),\n",
    "                            StructField(\"RatecodeID\"             , DoubleType()    , True),\n",
    "                            StructField(\"store_and_fwd_flag\"     , StringType()    , True),\n",
    "                            StructField(\"PULocationID\"           , IntegerType()   , True),\n",
    "                            StructField(\"DOLocationID\"           , IntegerType()   , True),\n",
    "                            StructField(\"payment_type\"           , IntegerType()   , True),\n",
    "                            StructField(\"fare_amount\"            , DoubleType()    , True),\n",
    "                            StructField(\"extra\"                  , DoubleType()    , True),\n",
    "                            StructField(\"mta_tax\"                , DoubleType()    , True),\n",
    "                            StructField(\"tip_amount\"             , DoubleType()    , True),\n",
    "                            StructField(\"tolls_amount\"           , DoubleType()    , True),\n",
    "                            StructField(\"improvement_surcharge\"  , DoubleType()    , True),\n",
    "                            StructField(\"total_amount\"           , DoubleType()    , True),\n",
    "                            StructField(\"congestion_surcharge\"   , DoubleType()    , True),\n",
    "                            StructField(\"airport_fee\"            , DoubleType()    , True)\n",
    "                        ])\n",
    "                   )"
   ]
  },
  {
   "cell_type": "code",
   "execution_count": 17,
   "id": "f4807c4f",
   "metadata": {
    "ExecuteTime": {
     "start_time": "2023-05-02T14:10:50.227086Z",
     "end_time": "2023-05-02T14:10:50.276515Z"
    }
   },
   "outputs": [
    {
     "name": "stdout",
     "output_type": "stream",
     "text": [
      "root\n",
      " |-- VendorId: integer (nullable = true)\n",
      " |-- lpep_pickup_datetime: timestamp (nullable = true)\n",
      " |-- lpep_dropoff_datetime: timestamp (nullable = true)\n",
      " |-- passenger_count: double (nullable = true)\n",
      " |-- trip_distance: double (nullable = true)\n",
      " |-- RatecodeID: double (nullable = true)\n",
      " |-- store_and_fwd_flag: string (nullable = true)\n",
      " |-- PULocationID: integer (nullable = true)\n",
      " |-- DOLocationID: integer (nullable = true)\n",
      " |-- payment_type: integer (nullable = true)\n",
      " |-- fare_amount: double (nullable = true)\n",
      " |-- extra: double (nullable = true)\n",
      " |-- mta_tax: double (nullable = true)\n",
      " |-- tip_amount: double (nullable = true)\n",
      " |-- tolls_amount: double (nullable = true)\n",
      " |-- improvement_surcharge: double (nullable = true)\n",
      " |-- total_amount: double (nullable = true)\n",
      " |-- congestion_surcharge: double (nullable = true)\n",
      " |-- airport_fee: double (nullable = true)\n",
      "\n"
     ]
    }
   ],
   "source": [
    "# Read YellowTaxis csv file, and create DataFrame by applying the schema\n",
    "\n",
    "yellowTaxiDF = (\n",
    "                  spark\n",
    "                    .read\n",
    "                    .option(\"header\", \"true\")\n",
    "    \n",
    "                    .schema(yellowTaxiSchema)\n",
    "    \n",
    "                    .csv(\"./../files/input/YellowTaxis_202210.csv\")\n",
    "               )\n",
    "\n",
    "yellowTaxiDF.printSchema()"
   ]
  },
  {
   "cell_type": "markdown",
   "source": [
    "### Transform Data"
   ],
   "metadata": {
    "collapsed": false
   }
  },
  {
   "cell_type": "markdown",
   "id": "394aee8a",
   "metadata": {},
   "source": [
    "#### 1. Select limited columns"
   ]
  },
  {
   "cell_type": "code",
   "execution_count": 18,
   "id": "4b155850",
   "metadata": {
    "ExecuteTime": {
     "start_time": "2023-05-02T14:10:57.037173Z",
     "end_time": "2023-05-02T14:10:57.088268Z"
    }
   },
   "outputs": [
    {
     "name": "stdout",
     "output_type": "stream",
     "text": [
      "root\n",
      " |-- VendorID: integer (nullable = true)\n",
      " |-- passenger_count: integer (nullable = true)\n",
      " |-- TripDistance: double (nullable = true)\n",
      " |-- lpep_pickup_datetime: timestamp (nullable = true)\n",
      " |-- lpep_dropoff_datetime: timestamp (nullable = true)\n",
      " |-- PUlocationID: integer (nullable = true)\n",
      " |-- DOlocationID: integer (nullable = true)\n",
      " |-- RatecodeID: double (nullable = true)\n",
      " |-- total_amount: double (nullable = true)\n",
      " |-- payment_type: integer (nullable = true)\n",
      "\n"
     ]
    }
   ],
   "source": [
    "yellowTaxiDF = (\n",
    "                   yellowTaxiDF\n",
    "\n",
    "                        # Select only limited columns\n",
    "                        .select(\n",
    "                                  \"VendorID\",\n",
    "                             \n",
    "                                  col(\"passenger_count\").cast(IntegerType()),\n",
    "                            \n",
    "                                  column(\"trip_distance\").alias(\"TripDistance\"),\n",
    "                            \n",
    "                                  yellowTaxiDF.lpep_pickup_datetime,\n",
    "                            \n",
    "                                  \"lpep_dropoff_datetime\",\n",
    "                                  \"PUlocationID\",\n",
    "                                  \"DOlocationID\",\n",
    "                                  \"RatecodeID\",\n",
    "                                  \"total_amount\",\n",
    "                                  \"payment_type\"\n",
    "                               )\n",
    "    \n",
    "                        # Don't run, since airport_fee has not been selected above    \n",
    "                        # .drop(\"airport_fee\") \n",
    "               )\n",
    "\n",
    "yellowTaxiDF.printSchema()"
   ]
  },
  {
   "cell_type": "markdown",
   "id": "c621bd3e",
   "metadata": {},
   "source": [
    "#### 2. Rename columns"
   ]
  },
  {
   "cell_type": "code",
   "execution_count": 19,
   "id": "ed0a0beb",
   "metadata": {
    "ExecuteTime": {
     "start_time": "2023-05-02T14:11:01.056133Z",
     "end_time": "2023-05-02T14:11:01.093322Z"
    }
   },
   "outputs": [
    {
     "name": "stdout",
     "output_type": "stream",
     "text": [
      "root\n",
      " |-- VendorID: integer (nullable = true)\n",
      " |-- PassengerCount: integer (nullable = true)\n",
      " |-- TripDistance: double (nullable = true)\n",
      " |-- PickupTime: timestamp (nullable = true)\n",
      " |-- DropTime: timestamp (nullable = true)\n",
      " |-- PickupLocationId: integer (nullable = true)\n",
      " |-- DropLocationId: integer (nullable = true)\n",
      " |-- RatecodeID: double (nullable = true)\n",
      " |-- TotalAmount: double (nullable = true)\n",
      " |-- PaymentType: integer (nullable = true)\n",
      "\n"
     ]
    }
   ],
   "source": [
    "yellowTaxiDF = (\n",
    "                   yellowTaxiDF                        \n",
    "                        \n",
    "                        .withColumnRenamed(\"passenger_count\", \"PassengerCount\")\n",
    "    \n",
    "                        .withColumnRenamed(\"lpep_pickup_datetime\", \"PickupTime\")\n",
    "                        .withColumnRenamed(\"lpep_dropoff_datetime\", \"DropTime\")\n",
    "                        .withColumnRenamed(\"PUlocationID\", \"PickupLocationId\")\n",
    "                        .withColumnRenamed(\"DOlocationID\", \"DropLocationId\")\n",
    "                        .withColumnRenamed(\"total_amount\", \"TotalAmount\")\n",
    "                        .withColumnRenamed(\"payment_type\", \"PaymentType\")    \n",
    "               )\n",
    "\n",
    "yellowTaxiDF.printSchema()"
   ]
  },
  {
   "cell_type": "markdown",
   "id": "ab0fe8c2",
   "metadata": {},
   "source": [
    "#### 3.a. Create derived columns - TripYear, TripMonth, TripDay"
   ]
  },
  {
   "cell_type": "code",
   "execution_count": 20,
   "id": "546d178e",
   "metadata": {
    "ExecuteTime": {
     "start_time": "2023-05-02T14:11:03.210474Z",
     "end_time": "2023-05-02T14:11:03.314999Z"
    }
   },
   "outputs": [
    {
     "name": "stdout",
     "output_type": "stream",
     "text": [
      "root\n",
      " |-- VendorID: integer (nullable = true)\n",
      " |-- PassengerCount: integer (nullable = true)\n",
      " |-- TripDistance: double (nullable = true)\n",
      " |-- PickupTime: timestamp (nullable = true)\n",
      " |-- DropTime: timestamp (nullable = true)\n",
      " |-- PickupLocationId: integer (nullable = true)\n",
      " |-- DropLocationId: integer (nullable = true)\n",
      " |-- RatecodeID: double (nullable = true)\n",
      " |-- TotalAmount: double (nullable = true)\n",
      " |-- PaymentType: integer (nullable = true)\n",
      " |-- TripYear: integer (nullable = true)\n",
      " |-- TripMonth: integer (nullable = true)\n",
      " |-- TripDay: integer (nullable = true)\n",
      "\n"
     ]
    }
   ],
   "source": [
    "# Create derived columns for year, month and day\n",
    "yellowTaxiDF = (\n",
    "                  yellowTaxiDF\n",
    "    \n",
    "                        .withColumn(\"TripYear\", year(col(\"PickupTime\")))\n",
    "    \n",
    "                        .select(\n",
    "                                    \"*\",\n",
    "                            \n",
    "                                    expr(\"month(PickupTime) AS TripMonth\"),\n",
    "                            \n",
    "                                    dayofmonth(col(\"PickupTime\")).alias(\"TripDay\")\n",
    "                               )\n",
    "               )\n",
    "\n",
    "yellowTaxiDF.printSchema()"
   ]
  },
  {
   "cell_type": "markdown",
   "id": "52b96fac",
   "metadata": {},
   "source": [
    "#### 3.b. Create derived column - TripTimeInMinutes"
   ]
  },
  {
   "cell_type": "code",
   "execution_count": 21,
   "id": "1c5a35ef",
   "metadata": {
    "ExecuteTime": {
     "start_time": "2023-05-02T14:11:05.926674Z",
     "end_time": "2023-05-02T14:11:05.976182Z"
    }
   },
   "outputs": [
    {
     "name": "stdout",
     "output_type": "stream",
     "text": [
      "root\n",
      " |-- VendorID: integer (nullable = true)\n",
      " |-- PassengerCount: integer (nullable = true)\n",
      " |-- TripDistance: double (nullable = true)\n",
      " |-- PickupTime: timestamp (nullable = true)\n",
      " |-- DropTime: timestamp (nullable = true)\n",
      " |-- PickupLocationId: integer (nullable = true)\n",
      " |-- DropLocationId: integer (nullable = true)\n",
      " |-- RatecodeID: double (nullable = true)\n",
      " |-- TotalAmount: double (nullable = true)\n",
      " |-- PaymentType: integer (nullable = true)\n",
      " |-- TripYear: integer (nullable = true)\n",
      " |-- TripMonth: integer (nullable = true)\n",
      " |-- TripDay: integer (nullable = true)\n",
      " |-- TripTimeInMinutes: double (nullable = true)\n",
      "\n"
     ]
    }
   ],
   "source": [
    "# Option 1\n",
    "yellowTaxiDF = (\n",
    "                  yellowTaxiDF\n",
    "                        .withColumn(\"TripTimeInMinutes\", \n",
    "                                        round(\n",
    "                                                (unix_timestamp(col(\"DropTime\")) \n",
    "                                                     - unix_timestamp(col(\"PickupTime\"))) \n",
    "                                            \n",
    "                                                  / 60\n",
    "                                             )\n",
    "                                   )\n",
    "               )\n",
    "\n",
    "yellowTaxiDF.printSchema()"
   ]
  },
  {
   "cell_type": "code",
   "execution_count": 22,
   "id": "429d3c63",
   "metadata": {
    "ExecuteTime": {
     "start_time": "2023-05-02T14:11:09.226622Z",
     "end_time": "2023-05-02T14:11:09.270770Z"
    }
   },
   "outputs": [
    {
     "name": "stdout",
     "output_type": "stream",
     "text": [
      "root\n",
      " |-- VendorID: integer (nullable = true)\n",
      " |-- PassengerCount: integer (nullable = true)\n",
      " |-- TripDistance: double (nullable = true)\n",
      " |-- PickupTime: timestamp (nullable = true)\n",
      " |-- DropTime: timestamp (nullable = true)\n",
      " |-- PickupLocationId: integer (nullable = true)\n",
      " |-- DropLocationId: integer (nullable = true)\n",
      " |-- RatecodeID: double (nullable = true)\n",
      " |-- TotalAmount: double (nullable = true)\n",
      " |-- PaymentType: integer (nullable = true)\n",
      " |-- TripYear: integer (nullable = true)\n",
      " |-- TripMonth: integer (nullable = true)\n",
      " |-- TripDay: integer (nullable = true)\n",
      " |-- TripTimeInMinutes: double (nullable = true)\n",
      "\n"
     ]
    }
   ],
   "source": [
    "# Option 2\n",
    "\n",
    "tripTimeInSecondsExpr = unix_timestamp(col(\"DropTime\")) - unix_timestamp(col(\"PickupTime\"))\n",
    "\n",
    "\n",
    "tripTimeInMinutesExpr = round(tripTimeInSecondsExpr / 60)\n",
    "\n",
    "\n",
    "yellowTaxiDF = (\n",
    "                  yellowTaxiDF\n",
    "                        .withColumn(\"TripTimeInMinutes\", tripTimeInMinutesExpr)\n",
    "               )\n",
    "\n",
    "yellowTaxiDF.printSchema()"
   ]
  },
  {
   "cell_type": "markdown",
   "id": "0e237ad9",
   "metadata": {},
   "source": [
    "#### 3.c. Create derived column - TripType"
   ]
  },
  {
   "cell_type": "code",
   "execution_count": 23,
   "id": "590c6bca",
   "metadata": {
    "ExecuteTime": {
     "start_time": "2023-05-02T14:11:11.073574Z",
     "end_time": "2023-05-02T14:11:11.116565Z"
    }
   },
   "outputs": [
    {
     "name": "stdout",
     "output_type": "stream",
     "text": [
      "root\n",
      " |-- VendorID: integer (nullable = true)\n",
      " |-- PassengerCount: integer (nullable = true)\n",
      " |-- TripDistance: double (nullable = true)\n",
      " |-- PickupTime: timestamp (nullable = true)\n",
      " |-- DropTime: timestamp (nullable = true)\n",
      " |-- PickupLocationId: integer (nullable = true)\n",
      " |-- DropLocationId: integer (nullable = true)\n",
      " |-- TotalAmount: double (nullable = true)\n",
      " |-- PaymentType: integer (nullable = true)\n",
      " |-- TripYear: integer (nullable = true)\n",
      " |-- TripMonth: integer (nullable = true)\n",
      " |-- TripDay: integer (nullable = true)\n",
      " |-- TripTimeInMinutes: double (nullable = true)\n",
      " |-- TripType: string (nullable = false)\n",
      "\n"
     ]
    }
   ],
   "source": [
    "tripTypeColumn = (\n",
    "                    when(\n",
    "                            col(\"RatecodeID\") == 6,\n",
    "                              \"SharedTrip\"\n",
    "                         )\n",
    "                    .otherwise(\"SoloTrip\")\n",
    "                 )    \n",
    "\n",
    "\n",
    "yellowTaxiDF = (\n",
    "                  yellowTaxiDF\n",
    "    \n",
    "                        .withColumn(\"TripType\", tripTypeColumn)\n",
    "    \n",
    "                        .drop(\"RatecodeID\")\n",
    "               )\n",
    "\n",
    "yellowTaxiDF.printSchema()"
   ]
  },
  {
   "cell_type": "markdown",
   "id": "4338d3de",
   "metadata": {},
   "source": [
    "### Save data in CSV format to storage"
   ]
  },
  {
   "cell_type": "code",
   "execution_count": 24,
   "outputs": [
    {
     "name": "stderr",
     "output_type": "stream",
     "text": [
      "                                                                                \r"
     ]
    }
   ],
   "source": [
    "yellowTaxiDF = (\n",
    "    spark\n",
    "    .read\n",
    "    .option(\"header\", \"true\")\n",
    "\n",
    "    .option(\"inferSchema\", \"true\")\n",
    "\n",
    "    .csv(\"./../files/input/YellowTaxis_202210.csv\")\n",
    ")"
   ],
   "metadata": {
    "collapsed": false,
    "ExecuteTime": {
     "start_time": "2023-05-02T14:11:14.093276Z",
     "end_time": "2023-05-02T14:11:23.451379Z"
    }
   }
  },
  {
   "cell_type": "code",
   "execution_count": 26,
   "id": "6d14c638",
   "metadata": {
    "ExecuteTime": {
     "start_time": "2023-05-02T14:12:49.325879Z",
     "end_time": "2023-05-02T14:13:04.235294Z"
    }
   },
   "outputs": [
    {
     "name": "stderr",
     "output_type": "stream",
     "text": [
      "                                                                                \r"
     ]
    }
   ],
   "source": [
    "(\n",
    "    yellowTaxiDF    \n",
    "            .write\n",
    "            \n",
    "            .option(\"header\", \"true\")\n",
    "            .option(\"dateFormat\", \"yyyy-MM-dd HH:mm:ss.S\")\n",
    "    \n",
    "            .mode(\"overwrite\")    # Options - Append, ErrorIfExists, Ignore, Overwrite\n",
    "    \n",
    "            .csv(\"./../files/output/YellowTaxisOutput.csv\")\n",
    ")"
   ]
  },
  {
   "cell_type": "code",
   "execution_count": null,
   "id": "997ec5a4",
   "metadata": {},
   "outputs": [],
   "source": []
  },
  {
   "cell_type": "code",
   "execution_count": null,
   "id": "f662c8d1",
   "metadata": {},
   "outputs": [],
   "source": []
  }
 ],
 "metadata": {
  "kernelspec": {
   "display_name": "Python 3 (ipykernel)",
   "language": "python",
   "name": "python3"
  },
  "language_info": {
   "codemirror_mode": {
    "name": "ipython",
    "version": 3
   },
   "file_extension": ".py",
   "mimetype": "text/x-python",
   "name": "python",
   "nbconvert_exporter": "python",
   "pygments_lexer": "ipython3",
   "version": "3.10.9"
  }
 },
 "nbformat": 4,
 "nbformat_minor": 5
}
