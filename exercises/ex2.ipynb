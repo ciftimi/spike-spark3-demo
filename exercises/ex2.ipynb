{
 "cells": [
  {
   "cell_type": "code",
   "execution_count": 1,
   "metadata": {
    "collapsed": true,
    "ExecuteTime": {
     "start_time": "2023-05-09T09:12:00.414941Z",
     "end_time": "2023-05-09T09:12:00.428388Z"
    }
   },
   "outputs": [
    {
     "data": {
      "text/plain": "'/usr/local/opt/apache-spark/libexec'"
     },
     "execution_count": 1,
     "metadata": {},
     "output_type": "execute_result"
    }
   ],
   "source": [
    "import findspark\n",
    "findspark.init()\n",
    "findspark.find()"
   ]
  },
  {
   "cell_type": "code",
   "execution_count": 2,
   "outputs": [
    {
     "name": "stderr",
     "output_type": "stream",
     "text": [
      "Setting default log level to \"WARN\".\n",
      "To adjust logging level use sc.setLogLevel(newLevel). For SparkR, use setLogLevel(newLevel).\n"
     ]
    },
    {
     "name": "stdout",
     "output_type": "stream",
     "text": [
      "23/05/09 09:12:02 WARN NativeCodeLoader: Unable to load native-hadoop library for your platform... using builtin-java classes where applicable\n",
      "23/05/09 09:12:03 WARN Utils: Service 'SparkUI' could not bind on port 4040. Attempting port 4041.\n"
     ]
    },
    {
     "data": {
      "text/plain": "<pyspark.sql.session.SparkSession at 0x112d06850>",
      "text/html": "\n            <div>\n                <p><b>SparkSession - in-memory</b></p>\n                \n        <div>\n            <p><b>SparkContext</b></p>\n\n            <p><a href=\"http://192.168.0.118:4041\">Spark UI</a></p>\n\n            <dl>\n              <dt>Version</dt>\n                <dd><code>v3.3.2</code></dd>\n              <dt>Master</dt>\n                <dd><code>local[4]</code></dd>\n              <dt>AppName</dt>\n                <dd><code>Exercise2App</code></dd>\n            </dl>\n        </div>\n        \n            </div>\n        "
     },
     "execution_count": 2,
     "metadata": {},
     "output_type": "execute_result"
    }
   ],
   "source": [
    "from pyspark.sql import SparkSession\n",
    "from pyspark.sql.types import *\n",
    "\n",
    "spark = (\n",
    "    SparkSession\n",
    "    .builder\n",
    "    .appName(\"Exercise2App\")\n",
    "    .master(\"local[4]\")\n",
    "\n",
    "    .config(\"spark.dynamicAllocation.enabled\", \"false\")\n",
    "    .config(\"spark.sql.adaptive.enabled\", \"false\")\n",
    "\n",
    "    .getOrCreate()\n",
    ")\n",
    "sc = spark.sparkContext\n",
    "spark"
   ],
   "metadata": {
    "collapsed": false,
    "ExecuteTime": {
     "start_time": "2023-05-09T09:12:00.429584Z",
     "end_time": "2023-05-09T09:12:05.241988Z"
    }
   }
  },
  {
   "cell_type": "code",
   "execution_count": 3,
   "outputs": [
    {
     "data": {
      "text/plain": "<IPython.core.display.HTML object>",
      "text/html": "<style>pre { white-space: pre !important; }</style>"
     },
     "metadata": {},
     "output_type": "display_data"
    }
   ],
   "source": [
    "from IPython.display import *\n",
    "display(HTML(\"<style>pre { white-space: pre !important; }</style>\"))"
   ],
   "metadata": {
    "collapsed": false,
    "ExecuteTime": {
     "start_time": "2023-05-09T09:12:05.245678Z",
     "end_time": "2023-05-09T09:12:05.249765Z"
    }
   }
  },
  {
   "cell_type": "code",
   "execution_count": 9,
   "outputs": [
    {
     "name": "stdout",
     "output_type": "stream",
     "text": [
      "root\n",
      " |-- diner_id: string (nullable = true)\n",
      " |-- order_count: integer (nullable = true)\n",
      "\n"
     ]
    }
   ],
   "source": [
    "### Provider a file that contains (diner_id, order_id), write a spark example (scala or python) to output into a DataFrame and execute Spark SQL to get (diner_id, order_count)\n",
    "\n",
    "ordersByDinersDF = (\n",
    "                    spark\n",
    "                        .read\n",
    "                        .option(\"header\", \"true\")\n",
    "                        .option(\"inferSchema\", \"true\")\n",
    "                        .csv(\"OrderCountByDiners.csv\")\n",
    ")\n",
    "ordersByDinersDF.printSchema()"
   ],
   "metadata": {
    "collapsed": false,
    "ExecuteTime": {
     "start_time": "2023-05-09T09:12:44.879771Z",
     "end_time": "2023-05-09T09:12:45.130529Z"
    }
   }
  },
  {
   "cell_type": "code",
   "execution_count": 10,
   "outputs": [
    {
     "name": "stdout",
     "output_type": "stream",
     "text": [
      "+--------+-----------+\n",
      "|diner_id|order_count|\n",
      "+--------+-----------+\n",
      "|      d1|          1|\n",
      "|      d2|          1|\n",
      "|      d3|         10|\n",
      "|      x1|          1|\n",
      "|      x3|          7|\n",
      "+--------+-----------+\n",
      "\n"
     ]
    }
   ],
   "source": [
    "ordersByDinersDF.show()"
   ],
   "metadata": {
    "collapsed": false,
    "ExecuteTime": {
     "start_time": "2023-05-09T09:12:46.976226Z",
     "end_time": "2023-05-09T09:12:47.094353Z"
    }
   }
  },
  {
   "cell_type": "code",
   "execution_count": 11,
   "outputs": [
    {
     "name": "stdout",
     "output_type": "stream",
     "text": [
      "+--------+-----------+\n",
      "|diner_id|order_count|\n",
      "+--------+-----------+\n",
      "|      d1|          1|\n",
      "|      d2|          1|\n",
      "|      x1|          1|\n",
      "+--------+-----------+\n",
      "\n"
     ]
    }
   ],
   "source": [
    "ordersByDinersDF.createOrReplaceTempView(\"OrdersByDiners\")\n",
    "\n",
    "spark.sql(\"\"\"\n",
    "    SELECT * FROM OrdersByDiners where order_count=1\n",
    "\"\"\").show()"
   ],
   "metadata": {
    "collapsed": false,
    "ExecuteTime": {
     "start_time": "2023-05-09T09:12:47.787525Z",
     "end_time": "2023-05-09T09:12:47.898003Z"
    }
   }
  },
  {
   "cell_type": "code",
   "execution_count": null,
   "outputs": [],
   "source": [],
   "metadata": {
    "collapsed": false
   }
  }
 ],
 "metadata": {
  "kernelspec": {
   "display_name": "Python 3",
   "language": "python",
   "name": "python3"
  },
  "language_info": {
   "codemirror_mode": {
    "name": "ipython",
    "version": 2
   },
   "file_extension": ".py",
   "mimetype": "text/x-python",
   "name": "python",
   "nbconvert_exporter": "python",
   "pygments_lexer": "ipython2",
   "version": "2.7.6"
  }
 },
 "nbformat": 4,
 "nbformat_minor": 0
}
