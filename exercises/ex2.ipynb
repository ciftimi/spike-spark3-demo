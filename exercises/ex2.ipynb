{
 "cells": [
  {
   "cell_type": "code",
   "execution_count": 12,
   "metadata": {
    "collapsed": true,
    "ExecuteTime": {
     "start_time": "2023-05-09T09:20:29.444482Z",
     "end_time": "2023-05-09T09:20:29.467876Z"
    }
   },
   "outputs": [
    {
     "data": {
      "text/plain": "'/usr/local/opt/apache-spark/libexec'"
     },
     "execution_count": 12,
     "metadata": {},
     "output_type": "execute_result"
    }
   ],
   "source": [
    "import findspark\n",
    "findspark.init()\n",
    "findspark.find()"
   ]
  },
  {
   "cell_type": "code",
   "execution_count": 13,
   "outputs": [
    {
     "data": {
      "text/plain": "<pyspark.sql.session.SparkSession at 0x112d06850>",
      "text/html": "\n            <div>\n                <p><b>SparkSession - in-memory</b></p>\n                \n        <div>\n            <p><b>SparkContext</b></p>\n\n            <p><a href=\"http://192.168.0.118:4041\">Spark UI</a></p>\n\n            <dl>\n              <dt>Version</dt>\n                <dd><code>v3.3.2</code></dd>\n              <dt>Master</dt>\n                <dd><code>local[4]</code></dd>\n              <dt>AppName</dt>\n                <dd><code>Exercise2App</code></dd>\n            </dl>\n        </div>\n        \n            </div>\n        "
     },
     "execution_count": 13,
     "metadata": {},
     "output_type": "execute_result"
    }
   ],
   "source": [
    "from pyspark.sql import SparkSession\n",
    "from pyspark.sql.types import *\n",
    "\n",
    "spark = (\n",
    "    SparkSession\n",
    "    .builder\n",
    "    .appName(\"Exercise2App\")\n",
    "    .master(\"local[4]\")\n",
    "\n",
    "    .config(\"spark.dynamicAllocation.enabled\", \"false\")\n",
    "    .config(\"spark.sql.adaptive.enabled\", \"false\")\n",
    "\n",
    "    .getOrCreate()\n",
    ")\n",
    "sc = spark.sparkContext\n",
    "spark"
   ],
   "metadata": {
    "collapsed": false,
    "ExecuteTime": {
     "start_time": "2023-05-09T09:20:29.452582Z",
     "end_time": "2023-05-09T09:20:29.501452Z"
    }
   }
  },
  {
   "cell_type": "code",
   "execution_count": 14,
   "outputs": [
    {
     "data": {
      "text/plain": "<IPython.core.display.HTML object>",
      "text/html": "<style>pre { white-space: pre !important; }</style>"
     },
     "metadata": {},
     "output_type": "display_data"
    }
   ],
   "source": [
    "from IPython.display import *\n",
    "display(HTML(\"<style>pre { white-space: pre !important; }</style>\"))"
   ],
   "metadata": {
    "collapsed": false,
    "ExecuteTime": {
     "start_time": "2023-05-09T09:20:29.467784Z",
     "end_time": "2023-05-09T09:20:29.502278Z"
    }
   }
  },
  {
   "cell_type": "code",
   "execution_count": 15,
   "outputs": [
    {
     "name": "stdout",
     "output_type": "stream",
     "text": [
      "root\n",
      " |-- diner_id: string (nullable = true)\n",
      " |-- order_count: integer (nullable = true)\n",
      "\n"
     ]
    }
   ],
   "source": [
    "### Provider a file that contains (diner_id, order_id), write a spark example (scala or python) to output into a DataFrame and execute Spark SQL to get (diner_id, order_count)\n",
    "\n",
    "ordersByDinersDF = (\n",
    "                    spark\n",
    "                        .read\n",
    "                        .option(\"header\", \"true\")\n",
    "                        .option(\"inferSchema\", \"true\")\n",
    "                        .csv(\"OrderCountByDiners.csv\")\n",
    ")\n",
    "ordersByDinersDF.printSchema()"
   ],
   "metadata": {
    "collapsed": false,
    "ExecuteTime": {
     "start_time": "2023-05-09T09:20:29.475324Z",
     "end_time": "2023-05-09T09:20:29.698583Z"
    }
   }
  },
  {
   "cell_type": "code",
   "execution_count": 16,
   "outputs": [
    {
     "name": "stdout",
     "output_type": "stream",
     "text": [
      "+--------+-----------+\n",
      "|diner_id|order_count|\n",
      "+--------+-----------+\n",
      "|      d1|          1|\n",
      "|      d2|          1|\n",
      "|      d3|         10|\n",
      "|      x1|          1|\n",
      "|      x3|          7|\n",
      "+--------+-----------+\n",
      "\n"
     ]
    }
   ],
   "source": [
    "ordersByDinersDF.show()"
   ],
   "metadata": {
    "collapsed": false,
    "ExecuteTime": {
     "start_time": "2023-05-09T09:20:29.701085Z",
     "end_time": "2023-05-09T09:20:29.777083Z"
    }
   }
  },
  {
   "cell_type": "code",
   "execution_count": 17,
   "outputs": [
    {
     "name": "stdout",
     "output_type": "stream",
     "text": [
      "+--------+-----------+\n",
      "|diner_id|order_count|\n",
      "+--------+-----------+\n",
      "|      d1|          1|\n",
      "|      d2|          1|\n",
      "|      x1|          1|\n",
      "+--------+-----------+\n",
      "\n"
     ]
    }
   ],
   "source": [
    "ordersByDinersDF.createOrReplaceTempView(\"OrderCountByDiners\")\n",
    "\n",
    "spark.sql(\"\"\"\n",
    "    SELECT * FROM OrderCountByDiners where order_count=1\n",
    "\"\"\").show()"
   ],
   "metadata": {
    "collapsed": false,
    "ExecuteTime": {
     "start_time": "2023-05-09T09:20:29.774273Z",
     "end_time": "2023-05-09T09:20:29.876071Z"
    }
   }
  },
  {
   "cell_type": "code",
   "execution_count": 17,
   "outputs": [],
   "source": [],
   "metadata": {
    "collapsed": false,
    "ExecuteTime": {
     "start_time": "2023-05-09T09:20:29.873883Z",
     "end_time": "2023-05-09T09:20:29.880206Z"
    }
   }
  }
 ],
 "metadata": {
  "kernelspec": {
   "display_name": "Python 3",
   "language": "python",
   "name": "python3"
  },
  "language_info": {
   "codemirror_mode": {
    "name": "ipython",
    "version": 2
   },
   "file_extension": ".py",
   "mimetype": "text/x-python",
   "name": "python",
   "nbconvert_exporter": "python",
   "pygments_lexer": "ipython2",
   "version": "2.7.6"
  }
 },
 "nbformat": 4,
 "nbformat_minor": 0
}
